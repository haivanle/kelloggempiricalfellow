{
 "cells": [
  {
   "cell_type": "code",
   "execution_count": 1,
   "metadata": {},
   "outputs": [],
   "source": [
    "# Import necessary libraries\n",
    "import numpy as np\n",
    "import pandas as pd\n",
    "import datetime"
   ]
  },
  {
   "cell_type": "markdown",
   "metadata": {},
   "source": [
    "**QUESTION 1**"
   ]
  },
  {
   "cell_type": "code",
   "execution_count": 3,
   "metadata": {},
   "outputs": [
    {
     "data": {
      "text/html": [
       "<div>\n",
       "<style scoped>\n",
       "    .dataframe tbody tr th:only-of-type {\n",
       "        vertical-align: middle;\n",
       "    }\n",
       "\n",
       "    .dataframe tbody tr th {\n",
       "        vertical-align: top;\n",
       "    }\n",
       "\n",
       "    .dataframe thead th {\n",
       "        text-align: right;\n",
       "    }\n",
       "</style>\n",
       "<table border=\"1\" class=\"dataframe\">\n",
       "  <thead>\n",
       "    <tr style=\"text-align: right;\">\n",
       "      <th></th>\n",
       "      <th>accession_num</th>\n",
       "      <th>order</th>\n",
       "      <th>trans_date</th>\n",
       "      <th>trans_type</th>\n",
       "      <th>price</th>\n",
       "      <th>shares</th>\n",
       "      <th>shares_owned</th>\n",
       "      <th>CIK</th>\n",
       "      <th>name</th>\n",
       "      <th>ticker</th>\n",
       "    </tr>\n",
       "  </thead>\n",
       "  <tbody>\n",
       "    <tr>\n",
       "      <th>0</th>\n",
       "      <td>0001140361-23-050019</td>\n",
       "      <td>1</td>\n",
       "      <td>10/27/2023</td>\n",
       "      <td>D</td>\n",
       "      <td>NaN</td>\n",
       "      <td>5371304.0</td>\n",
       "      <td>0.0</td>\n",
       "      <td>1124105</td>\n",
       "      <td>CATALYST BIOSCIENCES, INC.</td>\n",
       "      <td>CBIO</td>\n",
       "    </tr>\n",
       "    <tr>\n",
       "      <th>1</th>\n",
       "      <td>0000885550-23-000118</td>\n",
       "      <td>1</td>\n",
       "      <td>11/14/2023</td>\n",
       "      <td>D</td>\n",
       "      <td>418.04</td>\n",
       "      <td>115.0</td>\n",
       "      <td>6173.0</td>\n",
       "      <td>885550</td>\n",
       "      <td>CREDIT ACCEPTANCE CORP</td>\n",
       "      <td>CACC</td>\n",
       "    </tr>\n",
       "    <tr>\n",
       "      <th>2</th>\n",
       "      <td>0000885550-23-000118</td>\n",
       "      <td>2</td>\n",
       "      <td>11/14/2023</td>\n",
       "      <td>D</td>\n",
       "      <td>419.62</td>\n",
       "      <td>100.0</td>\n",
       "      <td>6073.0</td>\n",
       "      <td>885550</td>\n",
       "      <td>CREDIT ACCEPTANCE CORP</td>\n",
       "      <td>CACC</td>\n",
       "    </tr>\n",
       "    <tr>\n",
       "      <th>3</th>\n",
       "      <td>0000885550-23-000118</td>\n",
       "      <td>3</td>\n",
       "      <td>11/14/2023</td>\n",
       "      <td>D</td>\n",
       "      <td>420.72</td>\n",
       "      <td>2240.0</td>\n",
       "      <td>3833.0</td>\n",
       "      <td>885550</td>\n",
       "      <td>CREDIT ACCEPTANCE CORP</td>\n",
       "      <td>CACC</td>\n",
       "    </tr>\n",
       "    <tr>\n",
       "      <th>4</th>\n",
       "      <td>0000885550-23-000118</td>\n",
       "      <td>4</td>\n",
       "      <td>11/14/2023</td>\n",
       "      <td>D</td>\n",
       "      <td>421.38</td>\n",
       "      <td>459.0</td>\n",
       "      <td>3374.0</td>\n",
       "      <td>885550</td>\n",
       "      <td>CREDIT ACCEPTANCE CORP</td>\n",
       "      <td>CACC</td>\n",
       "    </tr>\n",
       "  </tbody>\n",
       "</table>\n",
       "</div>"
      ],
      "text/plain": [
       "          accession_num  order  trans_date trans_type   price     shares  \\\n",
       "0  0001140361-23-050019      1  10/27/2023          D     NaN  5371304.0   \n",
       "1  0000885550-23-000118      1  11/14/2023          D  418.04      115.0   \n",
       "2  0000885550-23-000118      2  11/14/2023          D  419.62      100.0   \n",
       "3  0000885550-23-000118      3  11/14/2023          D  420.72     2240.0   \n",
       "4  0000885550-23-000118      4  11/14/2023          D  421.38      459.0   \n",
       "\n",
       "   shares_owned      CIK                        name ticker  \n",
       "0           0.0  1124105  CATALYST BIOSCIENCES, INC.   CBIO  \n",
       "1        6173.0   885550      CREDIT ACCEPTANCE CORP   CACC  \n",
       "2        6073.0   885550      CREDIT ACCEPTANCE CORP   CACC  \n",
       "3        3833.0   885550      CREDIT ACCEPTANCE CORP   CACC  \n",
       "4        3374.0   885550      CREDIT ACCEPTANCE CORP   CACC  "
      ]
     },
     "execution_count": 3,
     "metadata": {},
     "output_type": "execute_result"
    }
   ],
   "source": [
    "# Read the csv file and view a few rows\n",
    "trades = pd.read_csv('/Users/haivanle/Documents/2024 Empirical/trades.csv')\n",
    "trades.head()"
   ]
  },
  {
   "cell_type": "code",
   "execution_count": 5,
   "metadata": {},
   "outputs": [
    {
     "data": {
      "text/html": [
       "<div>\n",
       "<style scoped>\n",
       "    .dataframe tbody tr th:only-of-type {\n",
       "        vertical-align: middle;\n",
       "    }\n",
       "\n",
       "    .dataframe tbody tr th {\n",
       "        vertical-align: top;\n",
       "    }\n",
       "\n",
       "    .dataframe thead th {\n",
       "        text-align: right;\n",
       "    }\n",
       "</style>\n",
       "<table border=\"1\" class=\"dataframe\">\n",
       "  <thead>\n",
       "    <tr style=\"text-align: right;\">\n",
       "      <th></th>\n",
       "      <th>order</th>\n",
       "      <th>price</th>\n",
       "      <th>shares</th>\n",
       "      <th>shares_owned</th>\n",
       "      <th>CIK</th>\n",
       "    </tr>\n",
       "  </thead>\n",
       "  <tbody>\n",
       "    <tr>\n",
       "      <th>count</th>\n",
       "      <td>749625.000000</td>\n",
       "      <td>5.345600e+05</td>\n",
       "      <td>5.804900e+05</td>\n",
       "      <td>7.494540e+05</td>\n",
       "      <td>7.496250e+05</td>\n",
       "    </tr>\n",
       "    <tr>\n",
       "      <th>mean</th>\n",
       "      <td>2.483431</td>\n",
       "      <td>4.964335e+02</td>\n",
       "      <td>4.095368e+05</td>\n",
       "      <td>5.008667e+06</td>\n",
       "      <td>1.182391e+06</td>\n",
       "    </tr>\n",
       "    <tr>\n",
       "      <th>std</th>\n",
       "      <td>2.989637</td>\n",
       "      <td>8.493532e+04</td>\n",
       "      <td>2.320737e+07</td>\n",
       "      <td>9.526046e+07</td>\n",
       "      <td>5.510764e+05</td>\n",
       "    </tr>\n",
       "    <tr>\n",
       "      <th>min</th>\n",
       "      <td>1.000000</td>\n",
       "      <td>0.000000e+00</td>\n",
       "      <td>0.000000e+00</td>\n",
       "      <td>0.000000e+00</td>\n",
       "      <td>1.750000e+03</td>\n",
       "    </tr>\n",
       "    <tr>\n",
       "      <th>25%</th>\n",
       "      <td>1.000000</td>\n",
       "      <td>0.000000e+00</td>\n",
       "      <td>7.680000e+02</td>\n",
       "      <td>1.188100e+04</td>\n",
       "      <td>8.670280e+05</td>\n",
       "    </tr>\n",
       "    <tr>\n",
       "      <th>50%</th>\n",
       "      <td>1.000000</td>\n",
       "      <td>1.164440e+01</td>\n",
       "      <td>3.460000e+03</td>\n",
       "      <td>5.757900e+04</td>\n",
       "      <td>1.315098e+06</td>\n",
       "    </tr>\n",
       "    <tr>\n",
       "      <th>75%</th>\n",
       "      <td>3.000000</td>\n",
       "      <td>5.358250e+01</td>\n",
       "      <td>1.692900e+04</td>\n",
       "      <td>3.154700e+05</td>\n",
       "      <td>1.642896e+06</td>\n",
       "    </tr>\n",
       "    <tr>\n",
       "      <th>max</th>\n",
       "      <td>30.000000</td>\n",
       "      <td>2.950000e+07</td>\n",
       "      <td>8.456000e+09</td>\n",
       "      <td>8.985000e+09</td>\n",
       "      <td>1.996862e+06</td>\n",
       "    </tr>\n",
       "  </tbody>\n",
       "</table>\n",
       "</div>"
      ],
      "text/plain": [
       "               order         price        shares  shares_owned           CIK\n",
       "count  749625.000000  5.345600e+05  5.804900e+05  7.494540e+05  7.496250e+05\n",
       "mean        2.483431  4.964335e+02  4.095368e+05  5.008667e+06  1.182391e+06\n",
       "std         2.989637  8.493532e+04  2.320737e+07  9.526046e+07  5.510764e+05\n",
       "min         1.000000  0.000000e+00  0.000000e+00  0.000000e+00  1.750000e+03\n",
       "25%         1.000000  0.000000e+00  7.680000e+02  1.188100e+04  8.670280e+05\n",
       "50%         1.000000  1.164440e+01  3.460000e+03  5.757900e+04  1.315098e+06\n",
       "75%         3.000000  5.358250e+01  1.692900e+04  3.154700e+05  1.642896e+06\n",
       "max        30.000000  2.950000e+07  8.456000e+09  8.985000e+09  1.996862e+06"
      ]
     },
     "execution_count": 5,
     "metadata": {},
     "output_type": "execute_result"
    }
   ],
   "source": [
    "trades.describe()"
   ]
  },
  {
   "cell_type": "code",
   "execution_count": 6,
   "metadata": {},
   "outputs": [],
   "source": [
    "trades = trades.drop_duplicates()"
   ]
  },
  {
   "cell_type": "code",
   "execution_count": 8,
   "metadata": {},
   "outputs": [
    {
     "data": {
      "text/html": [
       "<div>\n",
       "<style scoped>\n",
       "    .dataframe tbody tr th:only-of-type {\n",
       "        vertical-align: middle;\n",
       "    }\n",
       "\n",
       "    .dataframe tbody tr th {\n",
       "        vertical-align: top;\n",
       "    }\n",
       "\n",
       "    .dataframe thead th {\n",
       "        text-align: right;\n",
       "    }\n",
       "</style>\n",
       "<table border=\"1\" class=\"dataframe\">\n",
       "  <thead>\n",
       "    <tr style=\"text-align: right;\">\n",
       "      <th></th>\n",
       "      <th>order</th>\n",
       "      <th>price</th>\n",
       "      <th>shares</th>\n",
       "      <th>shares_owned</th>\n",
       "      <th>CIK</th>\n",
       "    </tr>\n",
       "  </thead>\n",
       "  <tbody>\n",
       "    <tr>\n",
       "      <th>count</th>\n",
       "      <td>348271.000000</td>\n",
       "      <td>2.507070e+05</td>\n",
       "      <td>2.707650e+05</td>\n",
       "      <td>3.481880e+05</td>\n",
       "      <td>3.482710e+05</td>\n",
       "    </tr>\n",
       "    <tr>\n",
       "      <th>mean</th>\n",
       "      <td>2.395755</td>\n",
       "      <td>5.136221e+02</td>\n",
       "      <td>3.104011e+05</td>\n",
       "      <td>4.754228e+06</td>\n",
       "      <td>1.157756e+06</td>\n",
       "    </tr>\n",
       "    <tr>\n",
       "      <th>std</th>\n",
       "      <td>2.880249</td>\n",
       "      <td>8.749722e+04</td>\n",
       "      <td>2.356394e+07</td>\n",
       "      <td>9.847200e+07</td>\n",
       "      <td>5.526566e+05</td>\n",
       "    </tr>\n",
       "    <tr>\n",
       "      <th>min</th>\n",
       "      <td>1.000000</td>\n",
       "      <td>0.000000e+00</td>\n",
       "      <td>0.000000e+00</td>\n",
       "      <td>0.000000e+00</td>\n",
       "      <td>1.750000e+03</td>\n",
       "    </tr>\n",
       "    <tr>\n",
       "      <th>25%</th>\n",
       "      <td>1.000000</td>\n",
       "      <td>0.000000e+00</td>\n",
       "      <td>7.220000e+02</td>\n",
       "      <td>1.110000e+04</td>\n",
       "      <td>8.607300e+05</td>\n",
       "    </tr>\n",
       "    <tr>\n",
       "      <th>50%</th>\n",
       "      <td>1.000000</td>\n",
       "      <td>1.229000e+01</td>\n",
       "      <td>3.069000e+03</td>\n",
       "      <td>5.112400e+04</td>\n",
       "      <td>1.273685e+06</td>\n",
       "    </tr>\n",
       "    <tr>\n",
       "      <th>75%</th>\n",
       "      <td>3.000000</td>\n",
       "      <td>5.692000e+01</td>\n",
       "      <td>1.395300e+04</td>\n",
       "      <td>2.503385e+05</td>\n",
       "      <td>1.620393e+06</td>\n",
       "    </tr>\n",
       "    <tr>\n",
       "      <th>max</th>\n",
       "      <td>30.000000</td>\n",
       "      <td>2.950000e+07</td>\n",
       "      <td>8.456000e+09</td>\n",
       "      <td>8.985000e+09</td>\n",
       "      <td>1.996862e+06</td>\n",
       "    </tr>\n",
       "  </tbody>\n",
       "</table>\n",
       "</div>"
      ],
      "text/plain": [
       "               order         price        shares  shares_owned           CIK\n",
       "count  348271.000000  2.507070e+05  2.707650e+05  3.481880e+05  3.482710e+05\n",
       "mean        2.395755  5.136221e+02  3.104011e+05  4.754228e+06  1.157756e+06\n",
       "std         2.880249  8.749722e+04  2.356394e+07  9.847200e+07  5.526566e+05\n",
       "min         1.000000  0.000000e+00  0.000000e+00  0.000000e+00  1.750000e+03\n",
       "25%         1.000000  0.000000e+00  7.220000e+02  1.110000e+04  8.607300e+05\n",
       "50%         1.000000  1.229000e+01  3.069000e+03  5.112400e+04  1.273685e+06\n",
       "75%         3.000000  5.692000e+01  1.395300e+04  2.503385e+05  1.620393e+06\n",
       "max        30.000000  2.950000e+07  8.456000e+09  8.985000e+09  1.996862e+06"
      ]
     },
     "execution_count": 8,
     "metadata": {},
     "output_type": "execute_result"
    }
   ],
   "source": [
    "trades.describe()"
   ]
  },
  {
   "cell_type": "code",
   "execution_count": 9,
   "metadata": {},
   "outputs": [
    {
     "data": {
      "text/plain": [
       "accession_num     object\n",
       "order              int64\n",
       "trans_date        object\n",
       "trans_type        object\n",
       "price            float64\n",
       "shares           float64\n",
       "shares_owned     float64\n",
       "CIK                int64\n",
       "name              object\n",
       "ticker            object\n",
       "dtype: object"
      ]
     },
     "execution_count": 9,
     "metadata": {},
     "output_type": "execute_result"
    }
   ],
   "source": [
    "# Check types of data\n",
    "trades.dtypes"
   ]
  },
  {
   "cell_type": "code",
   "execution_count": 10,
   "metadata": {},
   "outputs": [
    {
     "name": "stderr",
     "output_type": "stream",
     "text": [
      "/var/folders/6_/w9g0lyhn5632jr666js3y_lw0000gn/T/ipykernel_90394/432466457.py:5: SettingWithCopyWarning: \n",
      "A value is trying to be set on a copy of a slice from a DataFrame.\n",
      "Try using .loc[row_indexer,col_indexer] = value instead\n",
      "\n",
      "See the caveats in the documentation: https://pandas.pydata.org/pandas-docs/stable/user_guide/indexing.html#returning-a-view-versus-a-copy\n",
      "  trades['trans_date'] = pd.to_datetime(trades['trans_date'], errors = 'coerce')\n"
     ]
    }
   ],
   "source": [
    "# Make sure trans_date is in the standard date-time format\n",
    "# Filter all transactions from Jan 1 - April 30, 2023\n",
    "# The data description is not correct since many of the dates are out of range eg. 2023-06-27-05:00, \n",
    "# if it's ok to drop them, we can use errors = 'coerce'. Otherwise, check and fix :)\n",
    "trades['trans_date'] = pd.to_datetime(trades['trans_date'], errors = 'coerce')\n",
    "trades = trades[(trades['trans_date'] >= '2023-01-01') & (trades['trans_date'] <= '2023-04-30')]"
   ]
  },
  {
   "cell_type": "code",
   "execution_count": 11,
   "metadata": {},
   "outputs": [
    {
     "data": {
      "text/html": [
       "<div>\n",
       "<style scoped>\n",
       "    .dataframe tbody tr th:only-of-type {\n",
       "        vertical-align: middle;\n",
       "    }\n",
       "\n",
       "    .dataframe tbody tr th {\n",
       "        vertical-align: top;\n",
       "    }\n",
       "\n",
       "    .dataframe thead th {\n",
       "        text-align: right;\n",
       "    }\n",
       "</style>\n",
       "<table border=\"1\" class=\"dataframe\">\n",
       "  <thead>\n",
       "    <tr style=\"text-align: right;\">\n",
       "      <th></th>\n",
       "      <th>accession_num</th>\n",
       "      <th>order</th>\n",
       "      <th>trans_date</th>\n",
       "      <th>trans_type</th>\n",
       "      <th>price</th>\n",
       "      <th>shares</th>\n",
       "      <th>shares_owned</th>\n",
       "      <th>CIK</th>\n",
       "      <th>name</th>\n",
       "      <th>ticker</th>\n",
       "    </tr>\n",
       "  </thead>\n",
       "  <tbody>\n",
       "    <tr>\n",
       "      <th>10</th>\n",
       "      <td>0001467373-23-000082</td>\n",
       "      <td>1</td>\n",
       "      <td>2023-02-01</td>\n",
       "      <td>D</td>\n",
       "      <td>280.485</td>\n",
       "      <td>2.067000e+03</td>\n",
       "      <td>4.034300e+04</td>\n",
       "      <td>1467373</td>\n",
       "      <td>Accenture plc</td>\n",
       "      <td>ACN</td>\n",
       "    </tr>\n",
       "    <tr>\n",
       "      <th>16</th>\n",
       "      <td>0001327607-23-000025</td>\n",
       "      <td>1</td>\n",
       "      <td>2023-02-16</td>\n",
       "      <td>D</td>\n",
       "      <td>26.820</td>\n",
       "      <td>1.755000e+03</td>\n",
       "      <td>1.216000e+04</td>\n",
       "      <td>1327607</td>\n",
       "      <td>First Western Financial Inc</td>\n",
       "      <td>MYFW</td>\n",
       "    </tr>\n",
       "    <tr>\n",
       "      <th>20</th>\n",
       "      <td>0000899243-23-010219</td>\n",
       "      <td>1</td>\n",
       "      <td>2023-03-30</td>\n",
       "      <td>D</td>\n",
       "      <td>47.590</td>\n",
       "      <td>4.000000e+06</td>\n",
       "      <td>3.485348e+07</td>\n",
       "      <td>1915657</td>\n",
       "      <td>HF Sinclair Corp</td>\n",
       "      <td>DINO</td>\n",
       "    </tr>\n",
       "    <tr>\n",
       "      <th>41</th>\n",
       "      <td>0001567619-23-002199</td>\n",
       "      <td>1</td>\n",
       "      <td>2023-02-07</td>\n",
       "      <td>D</td>\n",
       "      <td>72.955</td>\n",
       "      <td>3.650000e+02</td>\n",
       "      <td>2.179300e+04</td>\n",
       "      <td>884887</td>\n",
       "      <td>ROYAL CARIBBEAN CRUISES LTD</td>\n",
       "      <td>RCL</td>\n",
       "    </tr>\n",
       "    <tr>\n",
       "      <th>44</th>\n",
       "      <td>0001017480-23-000034</td>\n",
       "      <td>1</td>\n",
       "      <td>2023-03-31</td>\n",
       "      <td>A</td>\n",
       "      <td>0.000</td>\n",
       "      <td>1.885000e+03</td>\n",
       "      <td>6.312000e+03</td>\n",
       "      <td>1017480</td>\n",
       "      <td>HIBBETT INC</td>\n",
       "      <td>HIBB</td>\n",
       "    </tr>\n",
       "    <tr>\n",
       "      <th>...</th>\n",
       "      <td>...</td>\n",
       "      <td>...</td>\n",
       "      <td>...</td>\n",
       "      <td>...</td>\n",
       "      <td>...</td>\n",
       "      <td>...</td>\n",
       "      <td>...</td>\n",
       "      <td>...</td>\n",
       "      <td>...</td>\n",
       "      <td>...</td>\n",
       "    </tr>\n",
       "    <tr>\n",
       "      <th>745691</th>\n",
       "      <td>0001209191-23-004312</td>\n",
       "      <td>2</td>\n",
       "      <td>2023-01-09</td>\n",
       "      <td>D</td>\n",
       "      <td>176.420</td>\n",
       "      <td>6.650000e+02</td>\n",
       "      <td>1.168500e+04</td>\n",
       "      <td>1442145</td>\n",
       "      <td>Verisk Analytics, Inc.</td>\n",
       "      <td>VRSK</td>\n",
       "    </tr>\n",
       "    <tr>\n",
       "      <th>745692</th>\n",
       "      <td>0001209191-23-004312</td>\n",
       "      <td>3</td>\n",
       "      <td>2023-01-15</td>\n",
       "      <td>A</td>\n",
       "      <td>0.000</td>\n",
       "      <td>2.760000e+02</td>\n",
       "      <td>1.196100e+04</td>\n",
       "      <td>1442145</td>\n",
       "      <td>Verisk Analytics, Inc.</td>\n",
       "      <td>VRSK</td>\n",
       "    </tr>\n",
       "    <tr>\n",
       "      <th>745693</th>\n",
       "      <td>0001209191-23-004312</td>\n",
       "      <td>4</td>\n",
       "      <td>2023-01-15</td>\n",
       "      <td>D</td>\n",
       "      <td>183.950</td>\n",
       "      <td>1.460000e+02</td>\n",
       "      <td>1.181500e+04</td>\n",
       "      <td>1442145</td>\n",
       "      <td>Verisk Analytics, Inc.</td>\n",
       "      <td>VRSK</td>\n",
       "    </tr>\n",
       "    <tr>\n",
       "      <th>745841</th>\n",
       "      <td>0000024090-23-000101</td>\n",
       "      <td>1</td>\n",
       "      <td>2023-04-03</td>\n",
       "      <td>A</td>\n",
       "      <td>3.550</td>\n",
       "      <td>3.489731e+02</td>\n",
       "      <td>2.575235e+04</td>\n",
       "      <td>24090</td>\n",
       "      <td>CITIZENS, INC.</td>\n",
       "      <td>CIA</td>\n",
       "    </tr>\n",
       "    <tr>\n",
       "      <th>748705</th>\n",
       "      <td>0001628280-23-001140</td>\n",
       "      <td>1</td>\n",
       "      <td>2023-01-15</td>\n",
       "      <td>A</td>\n",
       "      <td>0.000</td>\n",
       "      <td>1.500000e+05</td>\n",
       "      <td>3.000000e+05</td>\n",
       "      <td>1819584</td>\n",
       "      <td>Volta Inc.</td>\n",
       "      <td>VLTA</td>\n",
       "    </tr>\n",
       "  </tbody>\n",
       "</table>\n",
       "<p>115033 rows × 10 columns</p>\n",
       "</div>"
      ],
      "text/plain": [
       "               accession_num  order trans_date trans_type    price  \\\n",
       "10      0001467373-23-000082      1 2023-02-01          D  280.485   \n",
       "16      0001327607-23-000025      1 2023-02-16          D   26.820   \n",
       "20      0000899243-23-010219      1 2023-03-30          D   47.590   \n",
       "41      0001567619-23-002199      1 2023-02-07          D   72.955   \n",
       "44      0001017480-23-000034      1 2023-03-31          A    0.000   \n",
       "...                      ...    ...        ...        ...      ...   \n",
       "745691  0001209191-23-004312      2 2023-01-09          D  176.420   \n",
       "745692  0001209191-23-004312      3 2023-01-15          A    0.000   \n",
       "745693  0001209191-23-004312      4 2023-01-15          D  183.950   \n",
       "745841  0000024090-23-000101      1 2023-04-03          A    3.550   \n",
       "748705  0001628280-23-001140      1 2023-01-15          A    0.000   \n",
       "\n",
       "              shares  shares_owned      CIK                         name  \\\n",
       "10      2.067000e+03  4.034300e+04  1467373                Accenture plc   \n",
       "16      1.755000e+03  1.216000e+04  1327607  First Western Financial Inc   \n",
       "20      4.000000e+06  3.485348e+07  1915657             HF Sinclair Corp   \n",
       "41      3.650000e+02  2.179300e+04   884887  ROYAL CARIBBEAN CRUISES LTD   \n",
       "44      1.885000e+03  6.312000e+03  1017480                  HIBBETT INC   \n",
       "...              ...           ...      ...                          ...   \n",
       "745691  6.650000e+02  1.168500e+04  1442145       Verisk Analytics, Inc.   \n",
       "745692  2.760000e+02  1.196100e+04  1442145       Verisk Analytics, Inc.   \n",
       "745693  1.460000e+02  1.181500e+04  1442145       Verisk Analytics, Inc.   \n",
       "745841  3.489731e+02  2.575235e+04    24090               CITIZENS, INC.   \n",
       "748705  1.500000e+05  3.000000e+05  1819584                   Volta Inc.   \n",
       "\n",
       "       ticker  \n",
       "10        ACN  \n",
       "16       MYFW  \n",
       "20       DINO  \n",
       "41        RCL  \n",
       "44       HIBB  \n",
       "...       ...  \n",
       "745691   VRSK  \n",
       "745692   VRSK  \n",
       "745693   VRSK  \n",
       "745841    CIA  \n",
       "748705   VLTA  \n",
       "\n",
       "[115033 rows x 10 columns]"
      ]
     },
     "execution_count": 11,
     "metadata": {},
     "output_type": "execute_result"
    }
   ],
   "source": [
    "trades"
   ]
  },
  {
   "cell_type": "code",
   "execution_count": 12,
   "metadata": {},
   "outputs": [
    {
     "name": "stderr",
     "output_type": "stream",
     "text": [
      "/var/folders/6_/w9g0lyhn5632jr666js3y_lw0000gn/T/ipykernel_90394/124331872.py:4: SettingWithCopyWarning: \n",
      "A value is trying to be set on a copy of a slice from a DataFrame.\n",
      "Try using .loc[row_indexer,col_indexer] = value instead\n",
      "\n",
      "See the caveats in the documentation: https://pandas.pydata.org/pandas-docs/stable/user_guide/indexing.html#returning-a-view-versus-a-copy\n",
      "  trades['net_shares'] = np.where(trades['trans_type'] == 'D', trades['shares'] * -1, trades['shares'])\n"
     ]
    }
   ],
   "source": [
    "# Create a new column that specifies net shares transaction based on D - Disposed and A - Acquired. \n",
    "# Eg, if trans_type = 'D', the net shares should be a negative number so that when we add them together, \n",
    "# it represent the right net value.\n",
    "trades['net_shares'] = np.where(trades['trans_type'] == 'D', trades['shares'] * -1, trades['shares'])"
   ]
  },
  {
   "cell_type": "code",
   "execution_count": 13,
   "metadata": {},
   "outputs": [
    {
     "data": {
      "text/html": [
       "<div>\n",
       "<style scoped>\n",
       "    .dataframe tbody tr th:only-of-type {\n",
       "        vertical-align: middle;\n",
       "    }\n",
       "\n",
       "    .dataframe tbody tr th {\n",
       "        vertical-align: top;\n",
       "    }\n",
       "\n",
       "    .dataframe thead th {\n",
       "        text-align: right;\n",
       "    }\n",
       "</style>\n",
       "<table border=\"1\" class=\"dataframe\">\n",
       "  <thead>\n",
       "    <tr style=\"text-align: right;\">\n",
       "      <th></th>\n",
       "      <th>accession_num</th>\n",
       "      <th>order</th>\n",
       "      <th>trans_date</th>\n",
       "      <th>trans_type</th>\n",
       "      <th>price</th>\n",
       "      <th>shares</th>\n",
       "      <th>shares_owned</th>\n",
       "      <th>CIK</th>\n",
       "      <th>name</th>\n",
       "      <th>ticker</th>\n",
       "      <th>net_shares</th>\n",
       "    </tr>\n",
       "  </thead>\n",
       "  <tbody>\n",
       "    <tr>\n",
       "      <th>10</th>\n",
       "      <td>0001467373-23-000082</td>\n",
       "      <td>1</td>\n",
       "      <td>2023-02-01</td>\n",
       "      <td>D</td>\n",
       "      <td>280.485</td>\n",
       "      <td>2.067000e+03</td>\n",
       "      <td>4.034300e+04</td>\n",
       "      <td>1467373</td>\n",
       "      <td>Accenture plc</td>\n",
       "      <td>ACN</td>\n",
       "      <td>-2.067000e+03</td>\n",
       "    </tr>\n",
       "    <tr>\n",
       "      <th>16</th>\n",
       "      <td>0001327607-23-000025</td>\n",
       "      <td>1</td>\n",
       "      <td>2023-02-16</td>\n",
       "      <td>D</td>\n",
       "      <td>26.820</td>\n",
       "      <td>1.755000e+03</td>\n",
       "      <td>1.216000e+04</td>\n",
       "      <td>1327607</td>\n",
       "      <td>First Western Financial Inc</td>\n",
       "      <td>MYFW</td>\n",
       "      <td>-1.755000e+03</td>\n",
       "    </tr>\n",
       "    <tr>\n",
       "      <th>20</th>\n",
       "      <td>0000899243-23-010219</td>\n",
       "      <td>1</td>\n",
       "      <td>2023-03-30</td>\n",
       "      <td>D</td>\n",
       "      <td>47.590</td>\n",
       "      <td>4.000000e+06</td>\n",
       "      <td>3.485348e+07</td>\n",
       "      <td>1915657</td>\n",
       "      <td>HF Sinclair Corp</td>\n",
       "      <td>DINO</td>\n",
       "      <td>-4.000000e+06</td>\n",
       "    </tr>\n",
       "    <tr>\n",
       "      <th>41</th>\n",
       "      <td>0001567619-23-002199</td>\n",
       "      <td>1</td>\n",
       "      <td>2023-02-07</td>\n",
       "      <td>D</td>\n",
       "      <td>72.955</td>\n",
       "      <td>3.650000e+02</td>\n",
       "      <td>2.179300e+04</td>\n",
       "      <td>884887</td>\n",
       "      <td>ROYAL CARIBBEAN CRUISES LTD</td>\n",
       "      <td>RCL</td>\n",
       "      <td>-3.650000e+02</td>\n",
       "    </tr>\n",
       "    <tr>\n",
       "      <th>44</th>\n",
       "      <td>0001017480-23-000034</td>\n",
       "      <td>1</td>\n",
       "      <td>2023-03-31</td>\n",
       "      <td>A</td>\n",
       "      <td>0.000</td>\n",
       "      <td>1.885000e+03</td>\n",
       "      <td>6.312000e+03</td>\n",
       "      <td>1017480</td>\n",
       "      <td>HIBBETT INC</td>\n",
       "      <td>HIBB</td>\n",
       "      <td>1.885000e+03</td>\n",
       "    </tr>\n",
       "    <tr>\n",
       "      <th>...</th>\n",
       "      <td>...</td>\n",
       "      <td>...</td>\n",
       "      <td>...</td>\n",
       "      <td>...</td>\n",
       "      <td>...</td>\n",
       "      <td>...</td>\n",
       "      <td>...</td>\n",
       "      <td>...</td>\n",
       "      <td>...</td>\n",
       "      <td>...</td>\n",
       "      <td>...</td>\n",
       "    </tr>\n",
       "    <tr>\n",
       "      <th>745691</th>\n",
       "      <td>0001209191-23-004312</td>\n",
       "      <td>2</td>\n",
       "      <td>2023-01-09</td>\n",
       "      <td>D</td>\n",
       "      <td>176.420</td>\n",
       "      <td>6.650000e+02</td>\n",
       "      <td>1.168500e+04</td>\n",
       "      <td>1442145</td>\n",
       "      <td>Verisk Analytics, Inc.</td>\n",
       "      <td>VRSK</td>\n",
       "      <td>-6.650000e+02</td>\n",
       "    </tr>\n",
       "    <tr>\n",
       "      <th>745692</th>\n",
       "      <td>0001209191-23-004312</td>\n",
       "      <td>3</td>\n",
       "      <td>2023-01-15</td>\n",
       "      <td>A</td>\n",
       "      <td>0.000</td>\n",
       "      <td>2.760000e+02</td>\n",
       "      <td>1.196100e+04</td>\n",
       "      <td>1442145</td>\n",
       "      <td>Verisk Analytics, Inc.</td>\n",
       "      <td>VRSK</td>\n",
       "      <td>2.760000e+02</td>\n",
       "    </tr>\n",
       "    <tr>\n",
       "      <th>745693</th>\n",
       "      <td>0001209191-23-004312</td>\n",
       "      <td>4</td>\n",
       "      <td>2023-01-15</td>\n",
       "      <td>D</td>\n",
       "      <td>183.950</td>\n",
       "      <td>1.460000e+02</td>\n",
       "      <td>1.181500e+04</td>\n",
       "      <td>1442145</td>\n",
       "      <td>Verisk Analytics, Inc.</td>\n",
       "      <td>VRSK</td>\n",
       "      <td>-1.460000e+02</td>\n",
       "    </tr>\n",
       "    <tr>\n",
       "      <th>745841</th>\n",
       "      <td>0000024090-23-000101</td>\n",
       "      <td>1</td>\n",
       "      <td>2023-04-03</td>\n",
       "      <td>A</td>\n",
       "      <td>3.550</td>\n",
       "      <td>3.489731e+02</td>\n",
       "      <td>2.575235e+04</td>\n",
       "      <td>24090</td>\n",
       "      <td>CITIZENS, INC.</td>\n",
       "      <td>CIA</td>\n",
       "      <td>3.489731e+02</td>\n",
       "    </tr>\n",
       "    <tr>\n",
       "      <th>748705</th>\n",
       "      <td>0001628280-23-001140</td>\n",
       "      <td>1</td>\n",
       "      <td>2023-01-15</td>\n",
       "      <td>A</td>\n",
       "      <td>0.000</td>\n",
       "      <td>1.500000e+05</td>\n",
       "      <td>3.000000e+05</td>\n",
       "      <td>1819584</td>\n",
       "      <td>Volta Inc.</td>\n",
       "      <td>VLTA</td>\n",
       "      <td>1.500000e+05</td>\n",
       "    </tr>\n",
       "  </tbody>\n",
       "</table>\n",
       "<p>115033 rows × 11 columns</p>\n",
       "</div>"
      ],
      "text/plain": [
       "               accession_num  order trans_date trans_type    price  \\\n",
       "10      0001467373-23-000082      1 2023-02-01          D  280.485   \n",
       "16      0001327607-23-000025      1 2023-02-16          D   26.820   \n",
       "20      0000899243-23-010219      1 2023-03-30          D   47.590   \n",
       "41      0001567619-23-002199      1 2023-02-07          D   72.955   \n",
       "44      0001017480-23-000034      1 2023-03-31          A    0.000   \n",
       "...                      ...    ...        ...        ...      ...   \n",
       "745691  0001209191-23-004312      2 2023-01-09          D  176.420   \n",
       "745692  0001209191-23-004312      3 2023-01-15          A    0.000   \n",
       "745693  0001209191-23-004312      4 2023-01-15          D  183.950   \n",
       "745841  0000024090-23-000101      1 2023-04-03          A    3.550   \n",
       "748705  0001628280-23-001140      1 2023-01-15          A    0.000   \n",
       "\n",
       "              shares  shares_owned      CIK                         name  \\\n",
       "10      2.067000e+03  4.034300e+04  1467373                Accenture plc   \n",
       "16      1.755000e+03  1.216000e+04  1327607  First Western Financial Inc   \n",
       "20      4.000000e+06  3.485348e+07  1915657             HF Sinclair Corp   \n",
       "41      3.650000e+02  2.179300e+04   884887  ROYAL CARIBBEAN CRUISES LTD   \n",
       "44      1.885000e+03  6.312000e+03  1017480                  HIBBETT INC   \n",
       "...              ...           ...      ...                          ...   \n",
       "745691  6.650000e+02  1.168500e+04  1442145       Verisk Analytics, Inc.   \n",
       "745692  2.760000e+02  1.196100e+04  1442145       Verisk Analytics, Inc.   \n",
       "745693  1.460000e+02  1.181500e+04  1442145       Verisk Analytics, Inc.   \n",
       "745841  3.489731e+02  2.575235e+04    24090               CITIZENS, INC.   \n",
       "748705  1.500000e+05  3.000000e+05  1819584                   Volta Inc.   \n",
       "\n",
       "       ticker    net_shares  \n",
       "10        ACN -2.067000e+03  \n",
       "16       MYFW -1.755000e+03  \n",
       "20       DINO -4.000000e+06  \n",
       "41        RCL -3.650000e+02  \n",
       "44       HIBB  1.885000e+03  \n",
       "...       ...           ...  \n",
       "745691   VRSK -6.650000e+02  \n",
       "745692   VRSK  2.760000e+02  \n",
       "745693   VRSK -1.460000e+02  \n",
       "745841    CIA  3.489731e+02  \n",
       "748705   VLTA  1.500000e+05  \n",
       "\n",
       "[115033 rows x 11 columns]"
      ]
     },
     "execution_count": 13,
     "metadata": {},
     "output_type": "execute_result"
    }
   ],
   "source": [
    "trades"
   ]
  },
  {
   "cell_type": "code",
   "execution_count": 14,
   "metadata": {},
   "outputs": [
    {
     "data": {
      "text/plain": [
       "ticker\n",
       " KRC       82833.1439\n",
       " RPT      152775.0000\n",
       " SCS      438688.0000\n",
       "\"OMEX\"    -10877.0000\n",
       "(CALX)    200211.0000\n",
       "             ...     \n",
       "nick       10643.0000\n",
       "none         293.0000\n",
       "ubcp       -5000.0000\n",
       "vicr       19928.0000\n",
       "znog      100000.0000\n",
       "Name: net_shares, Length: 4417, dtype: float64"
      ]
     },
     "execution_count": 14,
     "metadata": {},
     "output_type": "execute_result"
    }
   ],
   "source": [
    "# Group by ticker and add up the net_shares\n",
    "q1 = trades.groupby('ticker')['net_shares'].sum()\n",
    "q1"
   ]
  },
  {
   "cell_type": "markdown",
   "metadata": {},
   "source": [
    "**QUESTION 2**"
   ]
  },
  {
   "cell_type": "code",
   "execution_count": 15,
   "metadata": {},
   "outputs": [],
   "source": [
    "# Load necessary library\n",
    "import matplotlib.pyplot as plt"
   ]
  },
  {
   "cell_type": "code",
   "execution_count": 84,
   "metadata": {},
   "outputs": [
    {
     "name": "stderr",
     "output_type": "stream",
     "text": [
      "/var/folders/6_/w9g0lyhn5632jr666js3y_lw0000gn/T/ipykernel_90394/2733191146.py:2: DtypeWarning:\n",
      "\n",
      "Columns (5) have mixed types. Specify dtype option on import or set low_memory=False.\n",
      "\n"
     ]
    },
    {
     "data": {
      "text/html": [
       "<div>\n",
       "<style scoped>\n",
       "    .dataframe tbody tr th:only-of-type {\n",
       "        vertical-align: middle;\n",
       "    }\n",
       "\n",
       "    .dataframe tbody tr th {\n",
       "        vertical-align: top;\n",
       "    }\n",
       "\n",
       "    .dataframe thead th {\n",
       "        text-align: right;\n",
       "    }\n",
       "</style>\n",
       "<table border=\"1\" class=\"dataframe\">\n",
       "  <thead>\n",
       "    <tr style=\"text-align: right;\">\n",
       "      <th></th>\n",
       "      <th>date</th>\n",
       "      <th>TICKER</th>\n",
       "      <th>COMNAM</th>\n",
       "      <th>PRC</th>\n",
       "      <th>VOL</th>\n",
       "      <th>RET</th>\n",
       "      <th>SHROUT</th>\n",
       "    </tr>\n",
       "  </thead>\n",
       "  <tbody>\n",
       "    <tr>\n",
       "      <th>0</th>\n",
       "      <td>1/3/2023</td>\n",
       "      <td>JJSF</td>\n",
       "      <td>J &amp; J SNACK FOODS CORP</td>\n",
       "      <td>151.48000</td>\n",
       "      <td>89954.0</td>\n",
       "      <td>0.011823</td>\n",
       "      <td>19229.0</td>\n",
       "    </tr>\n",
       "    <tr>\n",
       "      <th>1</th>\n",
       "      <td>1/4/2023</td>\n",
       "      <td>JJSF</td>\n",
       "      <td>J &amp; J SNACK FOODS CORP</td>\n",
       "      <td>151.22000</td>\n",
       "      <td>52980.0</td>\n",
       "      <td>-0.001716</td>\n",
       "      <td>19229.0</td>\n",
       "    </tr>\n",
       "    <tr>\n",
       "      <th>2</th>\n",
       "      <td>1/5/2023</td>\n",
       "      <td>JJSF</td>\n",
       "      <td>J &amp; J SNACK FOODS CORP</td>\n",
       "      <td>149.60001</td>\n",
       "      <td>60472.0</td>\n",
       "      <td>-0.010713</td>\n",
       "      <td>19229.0</td>\n",
       "    </tr>\n",
       "    <tr>\n",
       "      <th>3</th>\n",
       "      <td>1/6/2023</td>\n",
       "      <td>JJSF</td>\n",
       "      <td>J &amp; J SNACK FOODS CORP</td>\n",
       "      <td>152.64000</td>\n",
       "      <td>57034.0</td>\n",
       "      <td>0.020321</td>\n",
       "      <td>19229.0</td>\n",
       "    </tr>\n",
       "    <tr>\n",
       "      <th>4</th>\n",
       "      <td>1/9/2023</td>\n",
       "      <td>JJSF</td>\n",
       "      <td>J &amp; J SNACK FOODS CORP</td>\n",
       "      <td>149.61000</td>\n",
       "      <td>63214.0</td>\n",
       "      <td>-0.019851</td>\n",
       "      <td>19229.0</td>\n",
       "    </tr>\n",
       "  </tbody>\n",
       "</table>\n",
       "</div>"
      ],
      "text/plain": [
       "       date TICKER                  COMNAM        PRC      VOL       RET  \\\n",
       "0  1/3/2023   JJSF  J & J SNACK FOODS CORP  151.48000  89954.0  0.011823   \n",
       "1  1/4/2023   JJSF  J & J SNACK FOODS CORP  151.22000  52980.0 -0.001716   \n",
       "2  1/5/2023   JJSF  J & J SNACK FOODS CORP  149.60001  60472.0 -0.010713   \n",
       "3  1/6/2023   JJSF  J & J SNACK FOODS CORP  152.64000  57034.0  0.020321   \n",
       "4  1/9/2023   JJSF  J & J SNACK FOODS CORP  149.61000  63214.0 -0.019851   \n",
       "\n",
       "    SHROUT  \n",
       "0  19229.0  \n",
       "1  19229.0  \n",
       "2  19229.0  \n",
       "3  19229.0  \n",
       "4  19229.0  "
      ]
     },
     "execution_count": 84,
     "metadata": {},
     "output_type": "execute_result"
    }
   ],
   "source": [
    "# Read data file and view a few rows\n",
    "stocks = pd.read_csv('/Users/haivanle/Documents/2024 Empirical/stocks_Jan-Nov2023.csv')\n",
    "stocks.head()"
   ]
  },
  {
   "cell_type": "code",
   "execution_count": 53,
   "metadata": {},
   "outputs": [
    {
     "data": {
      "text/html": [
       "<div>\n",
       "<style scoped>\n",
       "    .dataframe tbody tr th:only-of-type {\n",
       "        vertical-align: middle;\n",
       "    }\n",
       "\n",
       "    .dataframe tbody tr th {\n",
       "        vertical-align: top;\n",
       "    }\n",
       "\n",
       "    .dataframe thead th {\n",
       "        text-align: right;\n",
       "    }\n",
       "</style>\n",
       "<table border=\"1\" class=\"dataframe\">\n",
       "  <thead>\n",
       "    <tr style=\"text-align: right;\">\n",
       "      <th></th>\n",
       "      <th>PRC</th>\n",
       "      <th>VOL</th>\n",
       "      <th>SHROUT</th>\n",
       "    </tr>\n",
       "  </thead>\n",
       "  <tbody>\n",
       "    <tr>\n",
       "      <th>count</th>\n",
       "      <td>1.182678e+06</td>\n",
       "      <td>1.182681e+06</td>\n",
       "      <td>1.183833e+06</td>\n",
       "    </tr>\n",
       "    <tr>\n",
       "      <th>mean</th>\n",
       "      <td>1.395113e+02</td>\n",
       "      <td>1.441800e+06</td>\n",
       "      <td>1.413856e+05</td>\n",
       "    </tr>\n",
       "    <tr>\n",
       "      <th>std</th>\n",
       "      <td>7.077325e+03</td>\n",
       "      <td>8.192930e+06</td>\n",
       "      <td>4.642921e+05</td>\n",
       "    </tr>\n",
       "    <tr>\n",
       "      <th>min</th>\n",
       "      <td>-1.010535e+03</td>\n",
       "      <td>0.000000e+00</td>\n",
       "      <td>1.010000e+02</td>\n",
       "    </tr>\n",
       "    <tr>\n",
       "      <th>25%</th>\n",
       "      <td>2.600000e+00</td>\n",
       "      <td>3.927800e+04</td>\n",
       "      <td>1.690000e+04</td>\n",
       "    </tr>\n",
       "    <tr>\n",
       "      <th>50%</th>\n",
       "      <td>1.065000e+01</td>\n",
       "      <td>2.298630e+05</td>\n",
       "      <td>4.403800e+04</td>\n",
       "    </tr>\n",
       "    <tr>\n",
       "      <th>75%</th>\n",
       "      <td>3.722000e+01</td>\n",
       "      <td>8.830710e+05</td>\n",
       "      <td>1.148520e+05</td>\n",
       "    </tr>\n",
       "    <tr>\n",
       "      <th>max</th>\n",
       "      <td>5.630728e+05</td>\n",
       "      <td>1.923658e+09</td>\n",
       "      <td>1.584241e+07</td>\n",
       "    </tr>\n",
       "  </tbody>\n",
       "</table>\n",
       "</div>"
      ],
      "text/plain": [
       "                PRC           VOL        SHROUT\n",
       "count  1.182678e+06  1.182681e+06  1.183833e+06\n",
       "mean   1.395113e+02  1.441800e+06  1.413856e+05\n",
       "std    7.077325e+03  8.192930e+06  4.642921e+05\n",
       "min   -1.010535e+03  0.000000e+00  1.010000e+02\n",
       "25%    2.600000e+00  3.927800e+04  1.690000e+04\n",
       "50%    1.065000e+01  2.298630e+05  4.403800e+04\n",
       "75%    3.722000e+01  8.830710e+05  1.148520e+05\n",
       "max    5.630728e+05  1.923658e+09  1.584241e+07"
      ]
     },
     "execution_count": 53,
     "metadata": {},
     "output_type": "execute_result"
    }
   ],
   "source": [
    "stocks.describe()"
   ]
  },
  {
   "cell_type": "code",
   "execution_count": 81,
   "metadata": {},
   "outputs": [
    {
     "data": {
      "text/html": [
       "<div>\n",
       "<style scoped>\n",
       "    .dataframe tbody tr th:only-of-type {\n",
       "        vertical-align: middle;\n",
       "    }\n",
       "\n",
       "    .dataframe tbody tr th {\n",
       "        vertical-align: top;\n",
       "    }\n",
       "\n",
       "    .dataframe thead th {\n",
       "        text-align: right;\n",
       "    }\n",
       "</style>\n",
       "<table border=\"1\" class=\"dataframe\">\n",
       "  <thead>\n",
       "    <tr style=\"text-align: right;\">\n",
       "      <th></th>\n",
       "      <th>PRC</th>\n",
       "      <th>VOL</th>\n",
       "      <th>SHROUT</th>\n",
       "    </tr>\n",
       "  </thead>\n",
       "  <tbody>\n",
       "    <tr>\n",
       "      <th>count</th>\n",
       "      <td>1.182678e+06</td>\n",
       "      <td>1.182681e+06</td>\n",
       "      <td>1.183833e+06</td>\n",
       "    </tr>\n",
       "    <tr>\n",
       "      <th>mean</th>\n",
       "      <td>1.395113e+02</td>\n",
       "      <td>1.441800e+06</td>\n",
       "      <td>1.413856e+05</td>\n",
       "    </tr>\n",
       "    <tr>\n",
       "      <th>std</th>\n",
       "      <td>7.077325e+03</td>\n",
       "      <td>8.192930e+06</td>\n",
       "      <td>4.642921e+05</td>\n",
       "    </tr>\n",
       "    <tr>\n",
       "      <th>min</th>\n",
       "      <td>-1.010535e+03</td>\n",
       "      <td>0.000000e+00</td>\n",
       "      <td>1.010000e+02</td>\n",
       "    </tr>\n",
       "    <tr>\n",
       "      <th>25%</th>\n",
       "      <td>2.600000e+00</td>\n",
       "      <td>3.927800e+04</td>\n",
       "      <td>1.690000e+04</td>\n",
       "    </tr>\n",
       "    <tr>\n",
       "      <th>50%</th>\n",
       "      <td>1.065000e+01</td>\n",
       "      <td>2.298630e+05</td>\n",
       "      <td>4.403800e+04</td>\n",
       "    </tr>\n",
       "    <tr>\n",
       "      <th>75%</th>\n",
       "      <td>3.722000e+01</td>\n",
       "      <td>8.830710e+05</td>\n",
       "      <td>1.148520e+05</td>\n",
       "    </tr>\n",
       "    <tr>\n",
       "      <th>max</th>\n",
       "      <td>5.630728e+05</td>\n",
       "      <td>1.923658e+09</td>\n",
       "      <td>1.584241e+07</td>\n",
       "    </tr>\n",
       "  </tbody>\n",
       "</table>\n",
       "</div>"
      ],
      "text/plain": [
       "                PRC           VOL        SHROUT\n",
       "count  1.182678e+06  1.182681e+06  1.183833e+06\n",
       "mean   1.395113e+02  1.441800e+06  1.413856e+05\n",
       "std    7.077325e+03  8.192930e+06  4.642921e+05\n",
       "min   -1.010535e+03  0.000000e+00  1.010000e+02\n",
       "25%    2.600000e+00  3.927800e+04  1.690000e+04\n",
       "50%    1.065000e+01  2.298630e+05  4.403800e+04\n",
       "75%    3.722000e+01  8.830710e+05  1.148520e+05\n",
       "max    5.630728e+05  1.923658e+09  1.584241e+07"
      ]
     },
     "execution_count": 81,
     "metadata": {},
     "output_type": "execute_result"
    }
   ],
   "source": [
    "stocks = stocks.drop_duplicates()\n",
    "stocks.describe()"
   ]
  },
  {
   "cell_type": "code",
   "execution_count": 91,
   "metadata": {},
   "outputs": [],
   "source": [
    "stocks['date'] = pd.to_datetime(stocks['date'], errors = 'coerce')"
   ]
  },
  {
   "cell_type": "code",
   "execution_count": 94,
   "metadata": {},
   "outputs": [],
   "source": [
    "# Convert stocks return from object to float type\n",
    "stocks['RET'] = pd.to_numeric(stocks['RET'], errors='coerce')\n",
    "stocks = stocks.dropna(subset=['RET'])"
   ]
  },
  {
   "cell_type": "code",
   "execution_count": 95,
   "metadata": {},
   "outputs": [
    {
     "data": {
      "text/plain": [
       "date      datetime64[ns]\n",
       "TICKER            object\n",
       "COMNAM            object\n",
       "PRC              float64\n",
       "VOL              float64\n",
       "RET              float64\n",
       "SHROUT           float64\n",
       "dtype: object"
      ]
     },
     "execution_count": 95,
     "metadata": {},
     "output_type": "execute_result"
    }
   ],
   "source": [
    "stocks.dtypes"
   ]
  },
  {
   "cell_type": "code",
   "execution_count": 96,
   "metadata": {},
   "outputs": [
    {
     "name": "stderr",
     "output_type": "stream",
     "text": [
      "/var/folders/6_/w9g0lyhn5632jr666js3y_lw0000gn/T/ipykernel_90394/1172213102.py:5: UserWarning:\n",
      "\n",
      "Boolean Series key will be reindexed to match DataFrame index.\n",
      "\n"
     ]
    },
    {
     "data": {
      "text/html": [
       "<div>\n",
       "<style scoped>\n",
       "    .dataframe tbody tr th:only-of-type {\n",
       "        vertical-align: middle;\n",
       "    }\n",
       "\n",
       "    .dataframe tbody tr th {\n",
       "        vertical-align: top;\n",
       "    }\n",
       "\n",
       "    .dataframe thead th {\n",
       "        text-align: right;\n",
       "    }\n",
       "</style>\n",
       "<table border=\"1\" class=\"dataframe\">\n",
       "  <thead>\n",
       "    <tr style=\"text-align: right;\">\n",
       "      <th></th>\n",
       "      <th>date</th>\n",
       "      <th>TICKER</th>\n",
       "      <th>COMNAM</th>\n",
       "      <th>PRC</th>\n",
       "      <th>VOL</th>\n",
       "      <th>RET</th>\n",
       "      <th>SHROUT</th>\n",
       "    </tr>\n",
       "  </thead>\n",
       "  <tbody>\n",
       "    <tr>\n",
       "      <th>322466</th>\n",
       "      <td>2023-02-01</td>\n",
       "      <td>PFE</td>\n",
       "      <td>PFIZER INC</td>\n",
       "      <td>43.97</td>\n",
       "      <td>24482321.0</td>\n",
       "      <td>-0.004303</td>\n",
       "      <td>5613315.0</td>\n",
       "    </tr>\n",
       "    <tr>\n",
       "      <th>322467</th>\n",
       "      <td>2023-02-02</td>\n",
       "      <td>PFE</td>\n",
       "      <td>PFIZER INC</td>\n",
       "      <td>44.34</td>\n",
       "      <td>35279247.0</td>\n",
       "      <td>0.008415</td>\n",
       "      <td>5613315.0</td>\n",
       "    </tr>\n",
       "    <tr>\n",
       "      <th>322468</th>\n",
       "      <td>2023-02-03</td>\n",
       "      <td>PFE</td>\n",
       "      <td>PFIZER INC</td>\n",
       "      <td>44.06</td>\n",
       "      <td>23741990.0</td>\n",
       "      <td>-0.006315</td>\n",
       "      <td>5613315.0</td>\n",
       "    </tr>\n",
       "    <tr>\n",
       "      <th>322469</th>\n",
       "      <td>2023-02-06</td>\n",
       "      <td>PFE</td>\n",
       "      <td>PFIZER INC</td>\n",
       "      <td>43.76</td>\n",
       "      <td>18071239.0</td>\n",
       "      <td>-0.006809</td>\n",
       "      <td>5613315.0</td>\n",
       "    </tr>\n",
       "    <tr>\n",
       "      <th>322470</th>\n",
       "      <td>2023-02-07</td>\n",
       "      <td>PFE</td>\n",
       "      <td>PFIZER INC</td>\n",
       "      <td>43.59</td>\n",
       "      <td>22999453.0</td>\n",
       "      <td>-0.003885</td>\n",
       "      <td>5613315.0</td>\n",
       "    </tr>\n",
       "    <tr>\n",
       "      <th>...</th>\n",
       "      <td>...</td>\n",
       "      <td>...</td>\n",
       "      <td>...</td>\n",
       "      <td>...</td>\n",
       "      <td>...</td>\n",
       "      <td>...</td>\n",
       "      <td>...</td>\n",
       "    </tr>\n",
       "    <tr>\n",
       "      <th>905093</th>\n",
       "      <td>2023-08-25</td>\n",
       "      <td>PFE</td>\n",
       "      <td>PFIZER INC</td>\n",
       "      <td>36.38</td>\n",
       "      <td>16421292.0</td>\n",
       "      <td>0.006084</td>\n",
       "      <td>5645307.0</td>\n",
       "    </tr>\n",
       "    <tr>\n",
       "      <th>905094</th>\n",
       "      <td>2023-08-28</td>\n",
       "      <td>PFE</td>\n",
       "      <td>PFIZER INC</td>\n",
       "      <td>36.21</td>\n",
       "      <td>15101949.0</td>\n",
       "      <td>-0.004673</td>\n",
       "      <td>5645307.0</td>\n",
       "    </tr>\n",
       "    <tr>\n",
       "      <th>905095</th>\n",
       "      <td>2023-08-29</td>\n",
       "      <td>PFE</td>\n",
       "      <td>PFIZER INC</td>\n",
       "      <td>36.15</td>\n",
       "      <td>21076488.0</td>\n",
       "      <td>-0.001657</td>\n",
       "      <td>5645307.0</td>\n",
       "    </tr>\n",
       "    <tr>\n",
       "      <th>905096</th>\n",
       "      <td>2023-08-30</td>\n",
       "      <td>PFE</td>\n",
       "      <td>PFIZER INC</td>\n",
       "      <td>35.90</td>\n",
       "      <td>16833018.0</td>\n",
       "      <td>-0.006916</td>\n",
       "      <td>5645307.0</td>\n",
       "    </tr>\n",
       "    <tr>\n",
       "      <th>905097</th>\n",
       "      <td>2023-08-31</td>\n",
       "      <td>PFE</td>\n",
       "      <td>PFIZER INC</td>\n",
       "      <td>35.38</td>\n",
       "      <td>27919464.0</td>\n",
       "      <td>-0.014485</td>\n",
       "      <td>5645960.0</td>\n",
       "    </tr>\n",
       "  </tbody>\n",
       "</table>\n",
       "<p>147 rows × 7 columns</p>\n",
       "</div>"
      ],
      "text/plain": [
       "             date TICKER      COMNAM    PRC         VOL       RET     SHROUT\n",
       "322466 2023-02-01    PFE  PFIZER INC  43.97  24482321.0 -0.004303  5613315.0\n",
       "322467 2023-02-02    PFE  PFIZER INC  44.34  35279247.0  0.008415  5613315.0\n",
       "322468 2023-02-03    PFE  PFIZER INC  44.06  23741990.0 -0.006315  5613315.0\n",
       "322469 2023-02-06    PFE  PFIZER INC  43.76  18071239.0 -0.006809  5613315.0\n",
       "322470 2023-02-07    PFE  PFIZER INC  43.59  22999453.0 -0.003885  5613315.0\n",
       "...           ...    ...         ...    ...         ...       ...        ...\n",
       "905093 2023-08-25    PFE  PFIZER INC  36.38  16421292.0  0.006084  5645307.0\n",
       "905094 2023-08-28    PFE  PFIZER INC  36.21  15101949.0 -0.004673  5645307.0\n",
       "905095 2023-08-29    PFE  PFIZER INC  36.15  21076488.0 -0.001657  5645307.0\n",
       "905096 2023-08-30    PFE  PFIZER INC  35.90  16833018.0 -0.006916  5645307.0\n",
       "905097 2023-08-31    PFE  PFIZER INC  35.38  27919464.0 -0.014485  5645960.0\n",
       "\n",
       "[147 rows x 7 columns]"
      ]
     },
     "execution_count": 96,
     "metadata": {},
     "output_type": "execute_result"
    }
   ],
   "source": [
    "# Make sure date is in the standard date-time format\n",
    "# Filter all dates from Feb 1 - Aug 31, 2023\n",
    "stocks_pfe = stocks[(stocks['date'] >= '2023-02-01') & (stocks['date'] <= '2023-08-31')]\n",
    "# Filter data for Pfizer\n",
    "stocks_pfe = stocks_pfe[stocks['TICKER'] == 'PFE']\n",
    "stocks_pfe"
   ]
  },
  {
   "cell_type": "code",
   "execution_count": 98,
   "metadata": {},
   "outputs": [],
   "source": [
    "# Set initial investment value\n",
    "initial_investment = 10000\n",
    "# Since dividends are reinvested, the investment value at the end of each day is \n",
    "stocks_pfe['investment_value'] = initial_investment * (1 + stocks_pfe['RET']).cumprod()\n",
    "# Where I've used cumprod() from https://pandas.pydata.org/docs/reference/api/pandas.DataFrame.cumprod.html"
   ]
  },
  {
   "cell_type": "code",
   "execution_count": 99,
   "metadata": {},
   "outputs": [
    {
     "data": {
      "text/html": [
       "<div>\n",
       "<style scoped>\n",
       "    .dataframe tbody tr th:only-of-type {\n",
       "        vertical-align: middle;\n",
       "    }\n",
       "\n",
       "    .dataframe tbody tr th {\n",
       "        vertical-align: top;\n",
       "    }\n",
       "\n",
       "    .dataframe thead th {\n",
       "        text-align: right;\n",
       "    }\n",
       "</style>\n",
       "<table border=\"1\" class=\"dataframe\">\n",
       "  <thead>\n",
       "    <tr style=\"text-align: right;\">\n",
       "      <th></th>\n",
       "      <th>date</th>\n",
       "      <th>TICKER</th>\n",
       "      <th>COMNAM</th>\n",
       "      <th>PRC</th>\n",
       "      <th>VOL</th>\n",
       "      <th>RET</th>\n",
       "      <th>SHROUT</th>\n",
       "      <th>investment_value</th>\n",
       "    </tr>\n",
       "  </thead>\n",
       "  <tbody>\n",
       "    <tr>\n",
       "      <th>322466</th>\n",
       "      <td>2023-02-01</td>\n",
       "      <td>PFE</td>\n",
       "      <td>PFIZER INC</td>\n",
       "      <td>43.97</td>\n",
       "      <td>24482321.0</td>\n",
       "      <td>-0.004303</td>\n",
       "      <td>5613315.0</td>\n",
       "      <td>9956.970000</td>\n",
       "    </tr>\n",
       "    <tr>\n",
       "      <th>322467</th>\n",
       "      <td>2023-02-02</td>\n",
       "      <td>PFE</td>\n",
       "      <td>PFIZER INC</td>\n",
       "      <td>44.34</td>\n",
       "      <td>35279247.0</td>\n",
       "      <td>0.008415</td>\n",
       "      <td>5613315.0</td>\n",
       "      <td>10040.757903</td>\n",
       "    </tr>\n",
       "    <tr>\n",
       "      <th>322468</th>\n",
       "      <td>2023-02-03</td>\n",
       "      <td>PFE</td>\n",
       "      <td>PFIZER INC</td>\n",
       "      <td>44.06</td>\n",
       "      <td>23741990.0</td>\n",
       "      <td>-0.006315</td>\n",
       "      <td>5613315.0</td>\n",
       "      <td>9977.350516</td>\n",
       "    </tr>\n",
       "    <tr>\n",
       "      <th>322469</th>\n",
       "      <td>2023-02-06</td>\n",
       "      <td>PFE</td>\n",
       "      <td>PFIZER INC</td>\n",
       "      <td>43.76</td>\n",
       "      <td>18071239.0</td>\n",
       "      <td>-0.006809</td>\n",
       "      <td>5613315.0</td>\n",
       "      <td>9909.414737</td>\n",
       "    </tr>\n",
       "    <tr>\n",
       "      <th>322470</th>\n",
       "      <td>2023-02-07</td>\n",
       "      <td>PFE</td>\n",
       "      <td>PFIZER INC</td>\n",
       "      <td>43.59</td>\n",
       "      <td>22999453.0</td>\n",
       "      <td>-0.003885</td>\n",
       "      <td>5613315.0</td>\n",
       "      <td>9870.916660</td>\n",
       "    </tr>\n",
       "    <tr>\n",
       "      <th>...</th>\n",
       "      <td>...</td>\n",
       "      <td>...</td>\n",
       "      <td>...</td>\n",
       "      <td>...</td>\n",
       "      <td>...</td>\n",
       "      <td>...</td>\n",
       "      <td>...</td>\n",
       "      <td>...</td>\n",
       "    </tr>\n",
       "    <tr>\n",
       "      <th>905093</th>\n",
       "      <td>2023-08-25</td>\n",
       "      <td>PFE</td>\n",
       "      <td>PFIZER INC</td>\n",
       "      <td>36.38</td>\n",
       "      <td>16421292.0</td>\n",
       "      <td>0.006084</td>\n",
       "      <td>5645307.0</td>\n",
       "      <td>8422.419053</td>\n",
       "    </tr>\n",
       "    <tr>\n",
       "      <th>905094</th>\n",
       "      <td>2023-08-28</td>\n",
       "      <td>PFE</td>\n",
       "      <td>PFIZER INC</td>\n",
       "      <td>36.21</td>\n",
       "      <td>15101949.0</td>\n",
       "      <td>-0.004673</td>\n",
       "      <td>5645307.0</td>\n",
       "      <td>8383.061089</td>\n",
       "    </tr>\n",
       "    <tr>\n",
       "      <th>905095</th>\n",
       "      <td>2023-08-29</td>\n",
       "      <td>PFE</td>\n",
       "      <td>PFIZER INC</td>\n",
       "      <td>36.15</td>\n",
       "      <td>21076488.0</td>\n",
       "      <td>-0.001657</td>\n",
       "      <td>5645307.0</td>\n",
       "      <td>8369.170356</td>\n",
       "    </tr>\n",
       "    <tr>\n",
       "      <th>905096</th>\n",
       "      <td>2023-08-30</td>\n",
       "      <td>PFE</td>\n",
       "      <td>PFIZER INC</td>\n",
       "      <td>35.90</td>\n",
       "      <td>16833018.0</td>\n",
       "      <td>-0.006916</td>\n",
       "      <td>5645307.0</td>\n",
       "      <td>8311.289174</td>\n",
       "    </tr>\n",
       "    <tr>\n",
       "      <th>905097</th>\n",
       "      <td>2023-08-31</td>\n",
       "      <td>PFE</td>\n",
       "      <td>PFIZER INC</td>\n",
       "      <td>35.38</td>\n",
       "      <td>27919464.0</td>\n",
       "      <td>-0.014485</td>\n",
       "      <td>5645960.0</td>\n",
       "      <td>8190.900151</td>\n",
       "    </tr>\n",
       "  </tbody>\n",
       "</table>\n",
       "<p>147 rows × 8 columns</p>\n",
       "</div>"
      ],
      "text/plain": [
       "             date TICKER      COMNAM    PRC         VOL       RET     SHROUT  \\\n",
       "322466 2023-02-01    PFE  PFIZER INC  43.97  24482321.0 -0.004303  5613315.0   \n",
       "322467 2023-02-02    PFE  PFIZER INC  44.34  35279247.0  0.008415  5613315.0   \n",
       "322468 2023-02-03    PFE  PFIZER INC  44.06  23741990.0 -0.006315  5613315.0   \n",
       "322469 2023-02-06    PFE  PFIZER INC  43.76  18071239.0 -0.006809  5613315.0   \n",
       "322470 2023-02-07    PFE  PFIZER INC  43.59  22999453.0 -0.003885  5613315.0   \n",
       "...           ...    ...         ...    ...         ...       ...        ...   \n",
       "905093 2023-08-25    PFE  PFIZER INC  36.38  16421292.0  0.006084  5645307.0   \n",
       "905094 2023-08-28    PFE  PFIZER INC  36.21  15101949.0 -0.004673  5645307.0   \n",
       "905095 2023-08-29    PFE  PFIZER INC  36.15  21076488.0 -0.001657  5645307.0   \n",
       "905096 2023-08-30    PFE  PFIZER INC  35.90  16833018.0 -0.006916  5645307.0   \n",
       "905097 2023-08-31    PFE  PFIZER INC  35.38  27919464.0 -0.014485  5645960.0   \n",
       "\n",
       "        investment_value  \n",
       "322466       9956.970000  \n",
       "322467      10040.757903  \n",
       "322468       9977.350516  \n",
       "322469       9909.414737  \n",
       "322470       9870.916660  \n",
       "...                  ...  \n",
       "905093       8422.419053  \n",
       "905094       8383.061089  \n",
       "905095       8369.170356  \n",
       "905096       8311.289174  \n",
       "905097       8190.900151  \n",
       "\n",
       "[147 rows x 8 columns]"
      ]
     },
     "execution_count": 99,
     "metadata": {},
     "output_type": "execute_result"
    }
   ],
   "source": [
    "stocks_pfe"
   ]
  },
  {
   "cell_type": "code",
   "execution_count": 100,
   "metadata": {},
   "outputs": [
    {
     "data": {
      "image/png": "[encoded data removed]",
      "text/plain": [
       "<Figure size 1000x600 with 1 Axes>"
      ]
     },
     "metadata": {},
     "output_type": "display_data"
    }
   ],
   "source": [
    "# Plotting the line chart and name it as required\n",
    "plt.figure(figsize=(10, 6))\n",
    "plt.plot(stocks_pfe['date'], stocks_pfe['investment_value'])\n",
    "plt.title('Value of $10,000 worth of PFE stock over time')\n",
    "plt.xlabel('Date')\n",
    "plt.ylabel('Investment Value ($)')\n",
    "plt.show()"
   ]
  },
  {
   "cell_type": "code",
   "execution_count": 46,
   "metadata": {},
   "outputs": [],
   "source": [
    "import plotly.express as px"
   ]
  },
  {
   "cell_type": "code",
   "execution_count": 101,
   "metadata": {},
   "outputs": [
    {
     "data": {
      "application/vnd.plotly.v1+json": {
       "config": {
        "plotlyServerURL": "https://plot.ly"
       },
       "data": [
        {
         "hovertemplate": "Date=%{x}<br>Investment Value ($)=%{y}<extra></extra>",
         "legendgroup": "",
         "line": {
          "color": "#636efa",
          "dash": "solid"
         },
         "marker": {
          "symbol": "circle"
         },
         "mode": "lines",
         "name": "",
         "orientation": "v",
         "showlegend": false,
         "type": "scatter",
         "x": [
          "2023-02-01T00:00:00",
          "2023-02-02T00:00:00",
          "2023-02-03T00:00:00",
          "2023-02-06T00:00:00",
          "2023-02-07T00:00:00",
          "2023-02-08T00:00:00",
          "2023-02-09T00:00:00",
          "2023-02-10T00:00:00",
          "2023-02-13T00:00:00",
          "2023-02-14T00:00:00",
          "2023-02-15T00:00:00",
          "2023-02-16T00:00:00",
          "2023-02-17T00:00:00",
          "2023-02-21T00:00:00",
          "2023-02-22T00:00:00",
          "2023-02-23T00:00:00",
          "2023-02-24T00:00:00",
          "2023-02-27T00:00:00",
          "2023-02-28T00:00:00",
          "2023-03-01T00:00:00",
          "2023-03-02T00:00:00",
          "2023-03-03T00:00:00",
          "2023-03-06T00:00:00",
          "2023-03-07T00:00:00",
          "2023-03-08T00:00:00",
          "2023-03-09T00:00:00",
          "2023-03-10T00:00:00",
          "2023-03-13T00:00:00",
          "2023-03-14T00:00:00",
          "2023-03-15T00:00:00",
          "2023-03-16T00:00:00",
          "2023-03-17T00:00:00",
          "2023-03-20T00:00:00",
          "2023-03-21T00:00:00",
          "2023-03-22T00:00:00",
          "2023-03-23T00:00:00",
          "2023-03-24T00:00:00",
          "2023-03-27T00:00:00",
          "2023-03-28T00:00:00",
          "2023-03-29T00:00:00",
          "2023-03-30T00:00:00",
          "2023-03-31T00:00:00",
          "2023-04-03T00:00:00",
          "2023-04-04T00:00:00",
          "2023-04-05T00:00:00",
          "2023-04-06T00:00:00",
          "2023-04-10T00:00:00",
          "2023-04-11T00:00:00",
          "2023-04-12T00:00:00",
          "2023-04-13T00:00:00",
          "2023-04-14T00:00:00",
          "2023-04-17T00:00:00",
          "2023-04-18T00:00:00",
          "2023-04-19T00:00:00",
          "2023-04-20T00:00:00",
          "2023-04-21T00:00:00",
          "2023-04-24T00:00:00",
          "2023-04-25T00:00:00",
          "2023-04-26T00:00:00",
          "2023-04-27T00:00:00",
          "2023-04-28T00:00:00",
          "2023-05-01T00:00:00",
          "2023-05-02T00:00:00",
          "2023-05-03T00:00:00",
          "2023-05-04T00:00:00",
          "2023-05-05T00:00:00",
          "2023-05-08T00:00:00",
          "2023-05-09T00:00:00",
          "2023-05-10T00:00:00",
          "2023-05-11T00:00:00",
          "2023-05-12T00:00:00",
          "2023-05-15T00:00:00",
          "2023-05-16T00:00:00",
          "2023-05-17T00:00:00",
          "2023-05-18T00:00:00",
          "2023-05-19T00:00:00",
          "2023-05-22T00:00:00",
          "2023-05-23T00:00:00",
          "2023-05-24T00:00:00",
          "2023-05-25T00:00:00",
          "2023-05-26T00:00:00",
          "2023-05-30T00:00:00",
          "2023-05-31T00:00:00",
          "2023-06-01T00:00:00",
          "2023-06-02T00:00:00",
          "2023-06-05T00:00:00",
          "2023-06-06T00:00:00",
          "2023-06-07T00:00:00",
          "2023-06-08T00:00:00",
          "2023-06-09T00:00:00",
          "2023-06-12T00:00:00",
          "2023-06-13T00:00:00",
          "2023-06-14T00:00:00",
          "2023-06-15T00:00:00",
          "2023-06-16T00:00:00",
          "2023-06-20T00:00:00",
          "2023-06-21T00:00:00",
          "2023-06-22T00:00:00",
          "2023-06-23T00:00:00",
          "2023-06-26T00:00:00",
          "2023-06-27T00:00:00",
          "2023-06-28T00:00:00",
          "2023-06-29T00:00:00",
          "2023-06-30T00:00:00",
          "2023-07-03T00:00:00",
          "2023-07-05T00:00:00",
          "2023-07-06T00:00:00",
          "2023-07-07T00:00:00",
          "2023-07-10T00:00:00",
          "2023-07-11T00:00:00",
          "2023-07-12T00:00:00",
          "2023-07-13T00:00:00",
          "2023-07-14T00:00:00",
          "2023-07-17T00:00:00",
          "2023-07-18T00:00:00",
          "2023-07-19T00:00:00",
          "2023-07-20T00:00:00",
          "2023-07-21T00:00:00",
          "2023-07-24T00:00:00",
          "2023-07-25T00:00:00",
          "2023-07-26T00:00:00",
          "2023-07-27T00:00:00",
          "2023-07-28T00:00:00",
          "2023-07-31T00:00:00",
          "2023-08-01T00:00:00",
          "2023-08-02T00:00:00",
          "2023-08-03T00:00:00",
          "2023-08-04T00:00:00",
          "2023-08-07T00:00:00",
          "2023-08-08T00:00:00",
          "2023-08-09T00:00:00",
          "2023-08-10T00:00:00",
          "2023-08-11T00:00:00",
          "2023-08-14T00:00:00",
          "2023-08-15T00:00:00",
          "2023-08-16T00:00:00",
          "2023-08-17T00:00:00",
          "2023-08-18T00:00:00",
          "2023-08-21T00:00:00",
          "2023-08-22T00:00:00",
          "2023-08-23T00:00:00",
          "2023-08-24T00:00:00",
          "2023-08-25T00:00:00",
          "2023-08-28T00:00:00",
          "2023-08-29T00:00:00",
          "2023-08-30T00:00:00",
          "2023-08-31T00:00:00"
         ],
         "xaxis": "x",
         "y": [
          9956.970000000001,
          10040.757902550002,
          9977.3505163954,
          9909.414736729263,
          9870.916660477069,
          9959.231751838357,
          9814.305011385606,
          9936.591251827469,
          9961.502286095802,
          9900.358585063745,
          9809.780204368997,
          9725.994871643481,
          9784.87604459641,
          9669.385152642039,
          9596.92278030814,
          9578.803790098918,
          9454.260183220053,
          9234.599902123118,
          9187.041712627184,
          9098.7266806437,
          9198.366836523428,
          9318.387127006386,
          9309.329654718935,
          9134.96591028605,
          9085.14380621135,
          8935.684105455368,
          8919.832201852289,
          9026.26363968479,
          9035.326008379034,
          9121.378453282838,
          9141.75561274747,
          9080.615551209416,
          9241.39693015913,
          9207.425555043865,
          9060.235650120932,
          9098.732591398297,
          9146.282567920944,
          9107.785864592564,
          9055.698437232959,
          9114.578588471848,
          9144.018677312613,
          9239.125615575342,
          9363.669028873297,
          9261.76421883207,
          9408.952175797749,
          9397.633206330265,
          9449.714889559746,
          9463.303579570933,
          9368.197378596245,
          9390.840311660311,
          9327.43335787598,
          9325.166791570016,
          9182.501064825788,
          9112.300844185194,
          9023.984424403352,
          9105.507099693412,
          9037.5709112226,
          8906.2278931698,
          8747.714849127164,
          8772.628341017478,
          8806.595957953898,
          8879.05662949594,
          8845.094237888121,
          8706.960401175022,
          8657.139173759499,
          8716.016377280237,
          8756.772469860398,
          8713.750446715976,
          8672.98752212624,
          8602.78836112215,
          8550.139296352081,
          8506.644737751538,
          8472.303412945235,
          8412.785481469296,
          8350.97674653694,
          8417.36701167191,
          8870.625390516418,
          9074.3659144858,
          8843.160145350615,
          8660.02714190055,
          8607.374176877795,
          8472.315868668406,
          8703.525368724366,
          8703.525368724366,
          8781.360996096868,
          8847.74808522736,
          8783.646150349889,
          8902.682122979431,
          8948.468617137913,
          8920.9968184833,
          9133.896407556404,
          9220.88763694197,
          9010.282563314217,
          9099.565453234098,
          9170.532964203869,
          9005.710975238233,
          8904.982097980193,
          8866.06732621202,
          8767.627380689088,
          8444.847178669019,
          8337.251380765596,
          8307.495730587643,
          8268.57511308984,
          8396.771101643184,
          8389.90254288204,
          8346.409288099741,
          8156.40328065615,
          8133.508256647348,
          8167.8479285069125,
          8245.679351417653,
          8238.810700517923,
          8254.835187330431,
          8314.352549031084,
          8209.051273997604,
          8296.042590348155,
          8341.82844940429,
          8417.372047842093,
          8561.59530050982,
          8586.77495228862,
          8483.759413186013,
          8518.093187531178,
          8380.738934882236,
          8350.643701367075,
          8348.330573061796,
          8244.151755840558,
          8183.961203871165,
          8102.931803991636,
          8107.558578051717,
          8260.35362701368,
          8251.093770597796,
          8297.39890883839,
          8269.6192172916,
          8343.706735859314,
          8350.648699863548,
          8193.22227057372,
          8214.05763480779,
          8452.511727946261,
          8487.243098636392,
          8568.270808499074,
          8528.916740675637,
          8487.244453480696,
          8371.486926379674,
          8422.419052839768,
          8383.061088605848,
          8369.170356382028,
          8311.289174197289,
          8190.900150509042
         ],
         "yaxis": "y"
        }
       ],
       "layout": {
        "legend": {
         "tracegroupgap": 0
        },
        "template": {
         "data": {
          "bar": [
           {
            "error_x": {
             "color": "#2a3f5f"
            },
            "error_y": {
             "color": "#2a3f5f"
            },
            "marker": {
             "line": {
              "color": "#E5ECF6",
              "width": 0.5
             },
             "pattern": {
              "fillmode": "overlay",
              "size": 10,
              "solidity": 0.2
             }
            },
            "type": "bar"
           }
          ],
          "barpolar": [
           {
            "marker": {
             "line": {
              "color": "#E5ECF6",
              "width": 0.5
             },
             "pattern": {
              "fillmode": "overlay",
              "size": 10,
              "solidity": 0.2
             }
            },
            "type": "barpolar"
           }
          ],
          "carpet": [
           {
            "aaxis": {
             "endlinecolor": "#2a3f5f",
             "gridcolor": "white",
             "linecolor": "white",
             "minorgridcolor": "white",
             "startlinecolor": "#2a3f5f"
            },
            "baxis": {
             "endlinecolor": "#2a3f5f",
             "gridcolor": "white",
             "linecolor": "white",
             "minorgridcolor": "white",
             "startlinecolor": "#2a3f5f"
            },
            "type": "carpet"
           }
          ],
          "choropleth": [
           {
            "colorbar": {
             "outlinewidth": 0,
             "ticks": ""
            },
            "type": "choropleth"
           }
          ],
          "contour": [
           {
            "colorbar": {
             "outlinewidth": 0,
             "ticks": ""
            },
            "colorscale": [
             [
              0,
              "#0d0887"
             ],
             [
              0.1111111111111111,
              "#46039f"
             ],
             [
              0.2222222222222222,
              "#7201a8"
             ],
             [
              0.3333333333333333,
              "#9c179e"
             ],
             [
              0.4444444444444444,
              "#bd3786"
             ],
             [
              0.5555555555555556,
              "#d8576b"
             ],
             [
              0.6666666666666666,
              "#ed7953"
             ],
             [
              0.7777777777777778,
              "#fb9f3a"
             ],
             [
              0.8888888888888888,
              "#fdca26"
             ],
             [
              1,
              "#f0f921"
             ]
            ],
            "type": "contour"
           }
          ],
          "contourcarpet": [
           {
            "colorbar": {
             "outlinewidth": 0,
             "ticks": ""
            },
            "type": "contourcarpet"
           }
          ],
          "heatmap": [
           {
            "colorbar": {
             "outlinewidth": 0,
             "ticks": ""
            },
            "colorscale": [
             [
              0,
              "#0d0887"
             ],
             [
              0.1111111111111111,
              "#46039f"
             ],
             [
              0.2222222222222222,
              "#7201a8"
             ],
             [
              0.3333333333333333,
              "#9c179e"
             ],
             [
              0.4444444444444444,
              "#bd3786"
             ],
             [
              0.5555555555555556,
              "#d8576b"
             ],
             [
              0.6666666666666666,
              "#ed7953"
             ],
             [
              0.7777777777777778,
              "#fb9f3a"
             ],
             [
              0.8888888888888888,
              "#fdca26"
             ],
             [
              1,
              "#f0f921"
             ]
            ],
            "type": "heatmap"
           }
          ],
          "heatmapgl": [
           {
            "colorbar": {
             "outlinewidth": 0,
             "ticks": ""
            },
            "colorscale": [
             [
              0,
              "#0d0887"
             ],
             [
              0.1111111111111111,
              "#46039f"
             ],
             [
              0.2222222222222222,
              "#7201a8"
             ],
             [
              0.3333333333333333,
              "#9c179e"
             ],
             [
              0.4444444444444444,
              "#bd3786"
             ],
             [
              0.5555555555555556,
              "#d8576b"
             ],
             [
              0.6666666666666666,
              "#ed7953"
             ],
             [
              0.7777777777777778,
              "#fb9f3a"
             ],
             [
              0.8888888888888888,
              "#fdca26"
             ],
             [
              1,
              "#f0f921"
             ]
            ],
            "type": "heatmapgl"
           }
          ],
          "histogram": [
           {
            "marker": {
             "pattern": {
              "fillmode": "overlay",
              "size": 10,
              "solidity": 0.2
             }
            },
            "type": "histogram"
           }
          ],
          "histogram2d": [
           {
            "colorbar": {
             "outlinewidth": 0,
             "ticks": ""
            },
            "colorscale": [
             [
              0,
              "#0d0887"
             ],
             [
              0.1111111111111111,
              "#46039f"
             ],
             [
              0.2222222222222222,
              "#7201a8"
             ],
             [
              0.3333333333333333,
              "#9c179e"
             ],
             [
              0.4444444444444444,
              "#bd3786"
             ],
             [
              0.5555555555555556,
              "#d8576b"
             ],
             [
              0.6666666666666666,
              "#ed7953"
             ],
             [
              0.7777777777777778,
              "#fb9f3a"
             ],
             [
              0.8888888888888888,
              "#fdca26"
             ],
             [
              1,
              "#f0f921"
             ]
            ],
            "type": "histogram2d"
           }
          ],
          "histogram2dcontour": [
           {
            "colorbar": {
             "outlinewidth": 0,
             "ticks": ""
            },
            "colorscale": [
             [
              0,
              "#0d0887"
             ],
             [
              0.1111111111111111,
              "#46039f"
             ],
             [
              0.2222222222222222,
              "#7201a8"
             ],
             [
              0.3333333333333333,
              "#9c179e"
             ],
             [
              0.4444444444444444,
              "#bd3786"
             ],
             [
              0.5555555555555556,
              "#d8576b"
             ],
             [
              0.6666666666666666,
              "#ed7953"
             ],
             [
              0.7777777777777778,
              "#fb9f3a"
             ],
             [
              0.8888888888888888,
              "#fdca26"
             ],
             [
              1,
              "#f0f921"
             ]
            ],
            "type": "histogram2dcontour"
           }
          ],
          "mesh3d": [
           {
            "colorbar": {
             "outlinewidth": 0,
             "ticks": ""
            },
            "type": "mesh3d"
           }
          ],
          "parcoords": [
           {
            "line": {
             "colorbar": {
              "outlinewidth": 0,
              "ticks": ""
             }
            },
            "type": "parcoords"
           }
          ],
          "pie": [
           {
            "automargin": true,
            "type": "pie"
           }
          ],
          "scatter": [
           {
            "fillpattern": {
             "fillmode": "overlay",
             "size": 10,
             "solidity": 0.2
            },
            "type": "scatter"
           }
          ],
          "scatter3d": [
           {
            "line": {
             "colorbar": {
              "outlinewidth": 0,
              "ticks": ""
             }
            },
            "marker": {
             "colorbar": {
              "outlinewidth": 0,
              "ticks": ""
             }
            },
            "type": "scatter3d"
           }
          ],
          "scattercarpet": [
           {
            "marker": {
             "colorbar": {
              "outlinewidth": 0,
              "ticks": ""
             }
            },
            "type": "scattercarpet"
           }
          ],
          "scattergeo": [
           {
            "marker": {
             "colorbar": {
              "outlinewidth": 0,
              "ticks": ""
             }
            },
            "type": "scattergeo"
           }
          ],
          "scattergl": [
           {
            "marker": {
             "colorbar": {
              "outlinewidth": 0,
              "ticks": ""
             }
            },
            "type": "scattergl"
           }
          ],
          "scattermapbox": [
           {
            "marker": {
             "colorbar": {
              "outlinewidth": 0,
              "ticks": ""
             }
            },
            "type": "scattermapbox"
           }
          ],
          "scatterpolar": [
           {
            "marker": {
             "colorbar": {
              "outlinewidth": 0,
              "ticks": ""
             }
            },
            "type": "scatterpolar"
           }
          ],
          "scatterpolargl": [
           {
            "marker": {
             "colorbar": {
              "outlinewidth": 0,
              "ticks": ""
             }
            },
            "type": "scatterpolargl"
           }
          ],
          "scatterternary": [
           {
            "marker": {
             "colorbar": {
              "outlinewidth": 0,
              "ticks": ""
             }
            },
            "type": "scatterternary"
           }
          ],
          "surface": [
           {
            "colorbar": {
             "outlinewidth": 0,
             "ticks": ""
            },
            "colorscale": [
             [
              0,
              "#0d0887"
             ],
             [
              0.1111111111111111,
              "#46039f"
             ],
             [
              0.2222222222222222,
              "#7201a8"
             ],
             [
              0.3333333333333333,
              "#9c179e"
             ],
             [
              0.4444444444444444,
              "#bd3786"
             ],
             [
              0.5555555555555556,
              "#d8576b"
             ],
             [
              0.6666666666666666,
              "#ed7953"
             ],
             [
              0.7777777777777778,
              "#fb9f3a"
             ],
             [
              0.8888888888888888,
              "#fdca26"
             ],
             [
              1,
              "#f0f921"
             ]
            ],
            "type": "surface"
           }
          ],
          "table": [
           {
            "cells": {
             "fill": {
              "color": "#EBF0F8"
             },
             "line": {
              "color": "white"
             }
            },
            "header": {
             "fill": {
              "color": "#C8D4E3"
             },
             "line": {
              "color": "white"
             }
            },
            "type": "table"
           }
          ]
         },
         "layout": {
          "annotationdefaults": {
           "arrowcolor": "#2a3f5f",
           "arrowhead": 0,
           "arrowwidth": 1
          },
          "autotypenumbers": "strict",
          "coloraxis": {
           "colorbar": {
            "outlinewidth": 0,
            "ticks": ""
           }
          },
          "colorscale": {
           "diverging": [
            [
             0,
             "#8e0152"
            ],
            [
             0.1,
             "#c51b7d"
            ],
            [
             0.2,
             "#de77ae"
            ],
            [
             0.3,
             "#f1b6da"
            ],
            [
             0.4,
             "#fde0ef"
            ],
            [
             0.5,
             "#f7f7f7"
            ],
            [
             0.6,
             "#e6f5d0"
            ],
            [
             0.7,
             "#b8e186"
            ],
            [
             0.8,
             "#7fbc41"
            ],
            [
             0.9,
             "#4d9221"
            ],
            [
             1,
             "#276419"
            ]
           ],
           "sequential": [
            [
             0,
             "#0d0887"
            ],
            [
             0.1111111111111111,
             "#46039f"
            ],
            [
             0.2222222222222222,
             "#7201a8"
            ],
            [
             0.3333333333333333,
             "#9c179e"
            ],
            [
             0.4444444444444444,
             "#bd3786"
            ],
            [
             0.5555555555555556,
             "#d8576b"
            ],
            [
             0.6666666666666666,
             "#ed7953"
            ],
            [
             0.7777777777777778,
             "#fb9f3a"
            ],
            [
             0.8888888888888888,
             "#fdca26"
            ],
            [
             1,
             "#f0f921"
            ]
           ],
           "sequentialminus": [
            [
             0,
             "#0d0887"
            ],
            [
             0.1111111111111111,
             "#46039f"
            ],
            [
             0.2222222222222222,
             "#7201a8"
            ],
            [
             0.3333333333333333,
             "#9c179e"
            ],
            [
             0.4444444444444444,
             "#bd3786"
            ],
            [
             0.5555555555555556,
             "#d8576b"
            ],
            [
             0.6666666666666666,
             "#ed7953"
            ],
            [
             0.7777777777777778,
             "#fb9f3a"
            ],
            [
             0.8888888888888888,
             "#fdca26"
            ],
            [
             1,
             "#f0f921"
            ]
           ]
          },
          "colorway": [
           "#636efa",
           "#EF553B",
           "#00cc96",
           "#ab63fa",
           "#FFA15A",
           "#19d3f3",
           "#FF6692",
           "#B6E880",
           "#FF97FF",
           "#FECB52"
          ],
          "font": {
           "color": "#2a3f5f"
          },
          "geo": {
           "bgcolor": "white",
           "lakecolor": "white",
           "landcolor": "#E5ECF6",
           "showlakes": true,
           "showland": true,
           "subunitcolor": "white"
          },
          "hoverlabel": {
           "align": "left"
          },
          "hovermode": "closest",
          "mapbox": {
           "style": "light"
          },
          "paper_bgcolor": "white",
          "plot_bgcolor": "#E5ECF6",
          "polar": {
           "angularaxis": {
            "gridcolor": "white",
            "linecolor": "white",
            "ticks": ""
           },
           "bgcolor": "#E5ECF6",
           "radialaxis": {
            "gridcolor": "white",
            "linecolor": "white",
            "ticks": ""
           }
          },
          "scene": {
           "xaxis": {
            "backgroundcolor": "#E5ECF6",
            "gridcolor": "white",
            "gridwidth": 2,
            "linecolor": "white",
            "showbackground": true,
            "ticks": "",
            "zerolinecolor": "white"
           },
           "yaxis": {
            "backgroundcolor": "#E5ECF6",
            "gridcolor": "white",
            "gridwidth": 2,
            "linecolor": "white",
            "showbackground": true,
            "ticks": "",
            "zerolinecolor": "white"
           },
           "zaxis": {
            "backgroundcolor": "#E5ECF6",
            "gridcolor": "white",
            "gridwidth": 2,
            "linecolor": "white",
            "showbackground": true,
            "ticks": "",
            "zerolinecolor": "white"
           }
          },
          "shapedefaults": {
           "line": {
            "color": "#2a3f5f"
           }
          },
          "ternary": {
           "aaxis": {
            "gridcolor": "white",
            "linecolor": "white",
            "ticks": ""
           },
           "baxis": {
            "gridcolor": "white",
            "linecolor": "white",
            "ticks": ""
           },
           "bgcolor": "#E5ECF6",
           "caxis": {
            "gridcolor": "white",
            "linecolor": "white",
            "ticks": ""
           }
          },
          "title": {
           "x": 0.05
          },
          "xaxis": {
           "automargin": true,
           "gridcolor": "white",
           "linecolor": "white",
           "ticks": "",
           "title": {
            "standoff": 15
           },
           "zerolinecolor": "white",
           "zerolinewidth": 2
          },
          "yaxis": {
           "automargin": true,
           "gridcolor": "white",
           "linecolor": "white",
           "ticks": "",
           "title": {
            "standoff": 15
           },
           "zerolinecolor": "white",
           "zerolinewidth": 2
          }
         }
        },
        "title": {
         "text": "Value of $10,000 worth of PFE stock over time"
        },
        "xaxis": {
         "anchor": "y",
         "domain": [
          0,
          1
         ],
         "title": {
          "text": "Date"
         }
        },
        "yaxis": {
         "anchor": "x",
         "domain": [
          0,
          1
         ],
         "title": {
          "text": "Investment Value ($)"
         }
        }
       }
      }
     },
     "metadata": {},
     "output_type": "display_data"
    }
   ],
   "source": [
    "# Plotting the interactive line chart using Plotly\n",
    "fig = px.line(stocks_pfe, x='date', y='investment_value', \n",
    "              title='Value of $10,000 worth of PFE stock over time',\n",
    "              labels={'date': 'Date', 'investment_value': 'Investment Value ($)'})\n",
    "\n",
    "# Show the plot\n",
    "fig.show()"
   ]
  },
  {
   "cell_type": "markdown",
   "metadata": {},
   "source": [
    "**BONUS**"
   ]
  },
  {
   "cell_type": "code",
   "execution_count": 103,
   "metadata": {},
   "outputs": [],
   "source": [
    "def preprocess_data(stocks, start_date, end_date, ticker):\n",
    "    \"\"\"\n",
    "    Preprocess the stock data by filtering based on date and ticker, \n",
    "    and converting the 'RET' column to numeric.\n",
    "    \"\"\"\n",
    "    stocks_filtered = stocks[(stocks['date'] >= start_date) & (stocks['date'] <= end_date)]\n",
    "    stocks_filtered = stocks_filtered[stocks_filtered['TICKER'] == ticker]\n",
    "    stocks_filtered['RET'] = pd.to_numeric(stocks_filtered['RET'], errors='coerce')\n",
    "    stocks_filtered = stocks_filtered.dropna(subset=['RET'])\n",
    "    return stocks_filtered\n",
    "\n",
    "def calculate_investment_value(stocks, initial_investment):\n",
    "    \"\"\"\n",
    "    Calculate the investment value over time.\n",
    "    \"\"\"\n",
    "    stocks['investment_value'] = initial_investment * (1 + stocks['RET']).cumprod()\n",
    "    return stocks\n",
    "\n",
    "def plot_investment_value(stocks, ticker, initial_investment):\n",
    "    \"\"\"\n",
    "    Plot the investment value over time using Plotly.\n",
    "    \"\"\"\n",
    "    fig = px.line(stocks, x='date', y='investment_value', \n",
    "                  title=f'Value of ${initial_investment} worth of {ticker} stock over time',\n",
    "                  labels={'date': 'Date', 'investment_value': 'Investment Value ($)'})\n",
    "    fig.show()\n",
    "\n",
    "def main(stocks, initial_investment, start_date, end_date, ticker):\n",
    "    \"\"\"\n",
    "    Main function to process data and plot the investment value.\n",
    "    \"\"\"\n",
    "    stocks_filtered = preprocess_data(stocks, start_date, end_date, ticker)\n",
    "    stocks_with_investment_value = calculate_investment_value(stocks_filtered, initial_investment)\n",
    "    plot_investment_value(stocks_with_investment_value, ticker, initial_investment)\n"
   ]
  },
  {
   "cell_type": "code",
   "execution_count": 105,
   "metadata": {},
   "outputs": [
    {
     "data": {
      "application/vnd.plotly.v1+json": {
       "config": {
        "plotlyServerURL": "https://plot.ly"
       },
       "data": [
        {
         "hovertemplate": "Date=%{x}<br>Investment Value ($)=%{y}<extra></extra>",
         "legendgroup": "",
         "line": {
          "color": "#636efa",
          "dash": "solid"
         },
         "marker": {
          "symbol": "circle"
         },
         "mode": "lines",
         "name": "",
         "orientation": "v",
         "showlegend": false,
         "type": "scatter",
         "x": [
          "2023-02-01T00:00:00",
          "2023-02-02T00:00:00",
          "2023-02-03T00:00:00",
          "2023-02-06T00:00:00",
          "2023-02-07T00:00:00",
          "2023-02-08T00:00:00",
          "2023-02-09T00:00:00",
          "2023-02-10T00:00:00",
          "2023-02-13T00:00:00",
          "2023-02-14T00:00:00",
          "2023-02-15T00:00:00",
          "2023-02-16T00:00:00",
          "2023-02-17T00:00:00",
          "2023-02-21T00:00:00",
          "2023-02-22T00:00:00",
          "2023-02-23T00:00:00",
          "2023-02-24T00:00:00",
          "2023-02-27T00:00:00",
          "2023-02-28T00:00:00",
          "2023-03-01T00:00:00",
          "2023-03-02T00:00:00",
          "2023-03-03T00:00:00",
          "2023-03-06T00:00:00",
          "2023-03-07T00:00:00",
          "2023-03-08T00:00:00",
          "2023-03-09T00:00:00",
          "2023-03-10T00:00:00",
          "2023-03-13T00:00:00",
          "2023-03-14T00:00:00",
          "2023-03-15T00:00:00",
          "2023-03-16T00:00:00",
          "2023-03-17T00:00:00",
          "2023-03-20T00:00:00",
          "2023-03-21T00:00:00",
          "2023-03-22T00:00:00",
          "2023-03-23T00:00:00",
          "2023-03-24T00:00:00",
          "2023-03-27T00:00:00",
          "2023-03-28T00:00:00",
          "2023-03-29T00:00:00",
          "2023-03-30T00:00:00",
          "2023-03-31T00:00:00",
          "2023-04-03T00:00:00",
          "2023-04-04T00:00:00",
          "2023-04-05T00:00:00",
          "2023-04-06T00:00:00",
          "2023-04-10T00:00:00",
          "2023-04-11T00:00:00",
          "2023-04-12T00:00:00",
          "2023-04-13T00:00:00",
          "2023-04-14T00:00:00",
          "2023-04-17T00:00:00",
          "2023-04-18T00:00:00",
          "2023-04-19T00:00:00",
          "2023-04-20T00:00:00",
          "2023-04-21T00:00:00",
          "2023-04-24T00:00:00",
          "2023-04-25T00:00:00",
          "2023-04-26T00:00:00",
          "2023-04-27T00:00:00",
          "2023-04-28T00:00:00",
          "2023-05-01T00:00:00",
          "2023-05-02T00:00:00",
          "2023-05-03T00:00:00",
          "2023-05-04T00:00:00",
          "2023-05-05T00:00:00",
          "2023-05-08T00:00:00",
          "2023-05-09T00:00:00",
          "2023-05-10T00:00:00",
          "2023-05-11T00:00:00",
          "2023-05-12T00:00:00",
          "2023-05-15T00:00:00",
          "2023-05-16T00:00:00",
          "2023-05-17T00:00:00",
          "2023-05-18T00:00:00",
          "2023-05-19T00:00:00",
          "2023-05-22T00:00:00",
          "2023-05-23T00:00:00",
          "2023-05-24T00:00:00",
          "2023-05-25T00:00:00",
          "2023-05-26T00:00:00",
          "2023-05-30T00:00:00",
          "2023-05-31T00:00:00",
          "2023-06-01T00:00:00",
          "2023-06-02T00:00:00",
          "2023-06-05T00:00:00",
          "2023-06-06T00:00:00",
          "2023-06-07T00:00:00",
          "2023-06-08T00:00:00",
          "2023-06-09T00:00:00",
          "2023-06-12T00:00:00",
          "2023-06-13T00:00:00",
          "2023-06-14T00:00:00",
          "2023-06-15T00:00:00",
          "2023-06-16T00:00:00",
          "2023-06-20T00:00:00",
          "2023-06-21T00:00:00",
          "2023-06-22T00:00:00",
          "2023-06-23T00:00:00",
          "2023-06-26T00:00:00",
          "2023-06-27T00:00:00",
          "2023-06-28T00:00:00",
          "2023-06-29T00:00:00",
          "2023-06-30T00:00:00",
          "2023-07-03T00:00:00",
          "2023-07-05T00:00:00",
          "2023-07-06T00:00:00",
          "2023-07-07T00:00:00",
          "2023-07-10T00:00:00",
          "2023-07-11T00:00:00",
          "2023-07-12T00:00:00",
          "2023-07-13T00:00:00",
          "2023-07-14T00:00:00",
          "2023-07-17T00:00:00",
          "2023-07-18T00:00:00",
          "2023-07-19T00:00:00",
          "2023-07-20T00:00:00",
          "2023-07-21T00:00:00",
          "2023-07-24T00:00:00",
          "2023-07-25T00:00:00",
          "2023-07-26T00:00:00",
          "2023-07-27T00:00:00",
          "2023-07-28T00:00:00",
          "2023-07-31T00:00:00",
          "2023-08-01T00:00:00",
          "2023-08-02T00:00:00",
          "2023-08-03T00:00:00",
          "2023-08-04T00:00:00",
          "2023-08-07T00:00:00",
          "2023-08-08T00:00:00",
          "2023-08-09T00:00:00",
          "2023-08-10T00:00:00",
          "2023-08-11T00:00:00",
          "2023-08-14T00:00:00",
          "2023-08-15T00:00:00",
          "2023-08-16T00:00:00",
          "2023-08-17T00:00:00",
          "2023-08-18T00:00:00",
          "2023-08-21T00:00:00",
          "2023-08-22T00:00:00",
          "2023-08-23T00:00:00",
          "2023-08-24T00:00:00",
          "2023-08-25T00:00:00",
          "2023-08-28T00:00:00",
          "2023-08-29T00:00:00",
          "2023-08-30T00:00:00",
          "2023-08-31T00:00:00"
         ],
         "xaxis": "x",
         "y": [
          10195.87,
          10948.315010129998,
          10025.20783005089,
          9907.882822815802,
          9901.095923082172,
          9701.351213929913,
          9525.844069118708,
          9464.75483110345,
          9651.901428378858,
          9667.412033974262,
          9808.981615799783,
          9517.11536782166,
          9424.999208176514,
          9170.948354520116,
          9288.272296819494,
          9291.179526048398,
          9066.221487363713,
          9091.434649320072,
          9137.010011217113,
          8937.265835361895,
          8933.387061989348,
          9201.97827739512,
          9090.468704629646,
          9071.078734882669,
          9106.95485127913,
          8945.024087068536,
          8797.636925185907,
          8962.478248253115,
          9200.046659179561,
          9328.037708302067,
          9700.384989504359,
          9594.68959465872,
          9474.448944658458,
          9755.650589335919,
          9570.449318547966,
          9571.415933929138,
          9515.174293901371,
          9506.448879073863,
          9428.876256220621,
          9720.737691855673,
          9890.422889004705,
          10015.507067281947,
          9930.174947068706,
          10079.504917922726,
          9803.155131588039,
          9896.245892717598,
          9906.914045789947,
          9688.74398467356,
          9486.084526746143,
          9929.217479328563,
          9939.881458901362,
          9962.186552895137,
          9919.518507889086,
          10113.445094718316,
          10065.932129663332,
          10371.372774205835,
          10298.648708313103,
          9945.693419781797,
          10179.377432372989,
          10648.687449515113,
          10224.954878524006,
          9895.271658375756,
          10048.480149462386,
          10050.419506131235,
          10084.35977280344,
          10244.83218986806,
          10261.797631974483,
          10338.401951297174,
          10684.562663832456,
          10877.525865541269,
          10691.357010352529,
          10782.500828865785,
          10995.821825264065,
          11199.453449646131,
          11456.413709594814,
          11272.183120730819,
          11151.942743381984,
          11150.002305344635,
          11320.66424063024,
          11150.978804327433,
          11646.472547497724,
          11796.77027572318,
          11692.050345985584,
          11904.401364369374,
          12047.908922816845,
          12149.72580112357,
          12276.751184374318,
          11755.075196296699,
          12047.905874511644,
          11968.389695739867,
          12272.865529599489,
          12281.591536991033,
          12258.317921028434,
          12325.223820241406,
          12168.13884265243,
          12196.259411517798,
          12104.141064182602,
          12619.995348055936,
          12540.489377363185,
          12346.56324963164,
          12525.946467085538,
          12512.368341115218,
          12401.834079189806,
          12640.370955868942,
          12626.79519746234,
          12642.313528760018,
          12446.44616525894,
          12584.1411991852,
          12327.185620039036,
          12487.180162201523,
          12683.054070225817,
          13022.42723103692,
          13059.267677673522,
          12950.66680766599,
          12879.878462895287,
          13125.201507978052,
          12601.584719018776,
          12605.466007112234,
          12489.10495040058,
          12521.102037283506,
          12426.079393922562,
          12435.771735849821,
          12819.751059737657,
          12962.29387177088,
          12769.3371651957,
          12431.89466126824,
          12499.772806118763,
          13533.41651877514,
          13790.375498217127,
          13569.301988605206,
          13366.644463405388,
          13435.482682391927,
          13420.932054646897,
          13630.379120291716,
          13349.184399040098,
          13097.071702479825,
          12991.378333840812,
          12917.691235931268,
          13059.256214185836,
          13017.558009093942,
          13140.70410785997,
          12783.868287811034,
          12921.563333139047,
          12909.933926139223,
          13081.558587753318,
          13097.07331623839,
          13382.144214039636
         ],
         "yaxis": "y"
        }
       ],
       "layout": {
        "legend": {
         "tracegroupgap": 0
        },
        "template": {
         "data": {
          "bar": [
           {
            "error_x": {
             "color": "#2a3f5f"
            },
            "error_y": {
             "color": "#2a3f5f"
            },
            "marker": {
             "line": {
              "color": "#E5ECF6",
              "width": 0.5
             },
             "pattern": {
              "fillmode": "overlay",
              "size": 10,
              "solidity": 0.2
             }
            },
            "type": "bar"
           }
          ],
          "barpolar": [
           {
            "marker": {
             "line": {
              "color": "#E5ECF6",
              "width": 0.5
             },
             "pattern": {
              "fillmode": "overlay",
              "size": 10,
              "solidity": 0.2
             }
            },
            "type": "barpolar"
           }
          ],
          "carpet": [
           {
            "aaxis": {
             "endlinecolor": "#2a3f5f",
             "gridcolor": "white",
             "linecolor": "white",
             "minorgridcolor": "white",
             "startlinecolor": "#2a3f5f"
            },
            "baxis": {
             "endlinecolor": "#2a3f5f",
             "gridcolor": "white",
             "linecolor": "white",
             "minorgridcolor": "white",
             "startlinecolor": "#2a3f5f"
            },
            "type": "carpet"
           }
          ],
          "choropleth": [
           {
            "colorbar": {
             "outlinewidth": 0,
             "ticks": ""
            },
            "type": "choropleth"
           }
          ],
          "contour": [
           {
            "colorbar": {
             "outlinewidth": 0,
             "ticks": ""
            },
            "colorscale": [
             [
              0,
              "#0d0887"
             ],
             [
              0.1111111111111111,
              "#46039f"
             ],
             [
              0.2222222222222222,
              "#7201a8"
             ],
             [
              0.3333333333333333,
              "#9c179e"
             ],
             [
              0.4444444444444444,
              "#bd3786"
             ],
             [
              0.5555555555555556,
              "#d8576b"
             ],
             [
              0.6666666666666666,
              "#ed7953"
             ],
             [
              0.7777777777777778,
              "#fb9f3a"
             ],
             [
              0.8888888888888888,
              "#fdca26"
             ],
             [
              1,
              "#f0f921"
             ]
            ],
            "type": "contour"
           }
          ],
          "contourcarpet": [
           {
            "colorbar": {
             "outlinewidth": 0,
             "ticks": ""
            },
            "type": "contourcarpet"
           }
          ],
          "heatmap": [
           {
            "colorbar": {
             "outlinewidth": 0,
             "ticks": ""
            },
            "colorscale": [
             [
              0,
              "#0d0887"
             ],
             [
              0.1111111111111111,
              "#46039f"
             ],
             [
              0.2222222222222222,
              "#7201a8"
             ],
             [
              0.3333333333333333,
              "#9c179e"
             ],
             [
              0.4444444444444444,
              "#bd3786"
             ],
             [
              0.5555555555555556,
              "#d8576b"
             ],
             [
              0.6666666666666666,
              "#ed7953"
             ],
             [
              0.7777777777777778,
              "#fb9f3a"
             ],
             [
              0.8888888888888888,
              "#fdca26"
             ],
             [
              1,
              "#f0f921"
             ]
            ],
            "type": "heatmap"
           }
          ],
          "heatmapgl": [
           {
            "colorbar": {
             "outlinewidth": 0,
             "ticks": ""
            },
            "colorscale": [
             [
              0,
              "#0d0887"
             ],
             [
              0.1111111111111111,
              "#46039f"
             ],
             [
              0.2222222222222222,
              "#7201a8"
             ],
             [
              0.3333333333333333,
              "#9c179e"
             ],
             [
              0.4444444444444444,
              "#bd3786"
             ],
             [
              0.5555555555555556,
              "#d8576b"
             ],
             [
              0.6666666666666666,
              "#ed7953"
             ],
             [
              0.7777777777777778,
              "#fb9f3a"
             ],
             [
              0.8888888888888888,
              "#fdca26"
             ],
             [
              1,
              "#f0f921"
             ]
            ],
            "type": "heatmapgl"
           }
          ],
          "histogram": [
           {
            "marker": {
             "pattern": {
              "fillmode": "overlay",
              "size": 10,
              "solidity": 0.2
             }
            },
            "type": "histogram"
           }
          ],
          "histogram2d": [
           {
            "colorbar": {
             "outlinewidth": 0,
             "ticks": ""
            },
            "colorscale": [
             [
              0,
              "#0d0887"
             ],
             [
              0.1111111111111111,
              "#46039f"
             ],
             [
              0.2222222222222222,
              "#7201a8"
             ],
             [
              0.3333333333333333,
              "#9c179e"
             ],
             [
              0.4444444444444444,
              "#bd3786"
             ],
             [
              0.5555555555555556,
              "#d8576b"
             ],
             [
              0.6666666666666666,
              "#ed7953"
             ],
             [
              0.7777777777777778,
              "#fb9f3a"
             ],
             [
              0.8888888888888888,
              "#fdca26"
             ],
             [
              1,
              "#f0f921"
             ]
            ],
            "type": "histogram2d"
           }
          ],
          "histogram2dcontour": [
           {
            "colorbar": {
             "outlinewidth": 0,
             "ticks": ""
            },
            "colorscale": [
             [
              0,
              "#0d0887"
             ],
             [
              0.1111111111111111,
              "#46039f"
             ],
             [
              0.2222222222222222,
              "#7201a8"
             ],
             [
              0.3333333333333333,
              "#9c179e"
             ],
             [
              0.4444444444444444,
              "#bd3786"
             ],
             [
              0.5555555555555556,
              "#d8576b"
             ],
             [
              0.6666666666666666,
              "#ed7953"
             ],
             [
              0.7777777777777778,
              "#fb9f3a"
             ],
             [
              0.8888888888888888,
              "#fdca26"
             ],
             [
              1,
              "#f0f921"
             ]
            ],
            "type": "histogram2dcontour"
           }
          ],
          "mesh3d": [
           {
            "colorbar": {
             "outlinewidth": 0,
             "ticks": ""
            },
            "type": "mesh3d"
           }
          ],
          "parcoords": [
           {
            "line": {
             "colorbar": {
              "outlinewidth": 0,
              "ticks": ""
             }
            },
            "type": "parcoords"
           }
          ],
          "pie": [
           {
            "automargin": true,
            "type": "pie"
           }
          ],
          "scatter": [
           {
            "fillpattern": {
             "fillmode": "overlay",
             "size": 10,
             "solidity": 0.2
            },
            "type": "scatter"
           }
          ],
          "scatter3d": [
           {
            "line": {
             "colorbar": {
              "outlinewidth": 0,
              "ticks": ""
             }
            },
            "marker": {
             "colorbar": {
              "outlinewidth": 0,
              "ticks": ""
             }
            },
            "type": "scatter3d"
           }
          ],
          "scattercarpet": [
           {
            "marker": {
             "colorbar": {
              "outlinewidth": 0,
              "ticks": ""
             }
            },
            "type": "scattercarpet"
           }
          ],
          "scattergeo": [
           {
            "marker": {
             "colorbar": {
              "outlinewidth": 0,
              "ticks": ""
             }
            },
            "type": "scattergeo"
           }
          ],
          "scattergl": [
           {
            "marker": {
             "colorbar": {
              "outlinewidth": 0,
              "ticks": ""
             }
            },
            "type": "scattergl"
           }
          ],
          "scattermapbox": [
           {
            "marker": {
             "colorbar": {
              "outlinewidth": 0,
              "ticks": ""
             }
            },
            "type": "scattermapbox"
           }
          ],
          "scatterpolar": [
           {
            "marker": {
             "colorbar": {
              "outlinewidth": 0,
              "ticks": ""
             }
            },
            "type": "scatterpolar"
           }
          ],
          "scatterpolargl": [
           {
            "marker": {
             "colorbar": {
              "outlinewidth": 0,
              "ticks": ""
             }
            },
            "type": "scatterpolargl"
           }
          ],
          "scatterternary": [
           {
            "marker": {
             "colorbar": {
              "outlinewidth": 0,
              "ticks": ""
             }
            },
            "type": "scatterternary"
           }
          ],
          "surface": [
           {
            "colorbar": {
             "outlinewidth": 0,
             "ticks": ""
            },
            "colorscale": [
             [
              0,
              "#0d0887"
             ],
             [
              0.1111111111111111,
              "#46039f"
             ],
             [
              0.2222222222222222,
              "#7201a8"
             ],
             [
              0.3333333333333333,
              "#9c179e"
             ],
             [
              0.4444444444444444,
              "#bd3786"
             ],
             [
              0.5555555555555556,
              "#d8576b"
             ],
             [
              0.6666666666666666,
              "#ed7953"
             ],
             [
              0.7777777777777778,
              "#fb9f3a"
             ],
             [
              0.8888888888888888,
              "#fdca26"
             ],
             [
              1,
              "#f0f921"
             ]
            ],
            "type": "surface"
           }
          ],
          "table": [
           {
            "cells": {
             "fill": {
              "color": "#EBF0F8"
             },
             "line": {
              "color": "white"
             }
            },
            "header": {
             "fill": {
              "color": "#C8D4E3"
             },
             "line": {
              "color": "white"
             }
            },
            "type": "table"
           }
          ]
         },
         "layout": {
          "annotationdefaults": {
           "arrowcolor": "#2a3f5f",
           "arrowhead": 0,
           "arrowwidth": 1
          },
          "autotypenumbers": "strict",
          "coloraxis": {
           "colorbar": {
            "outlinewidth": 0,
            "ticks": ""
           }
          },
          "colorscale": {
           "diverging": [
            [
             0,
             "#8e0152"
            ],
            [
             0.1,
             "#c51b7d"
            ],
            [
             0.2,
             "#de77ae"
            ],
            [
             0.3,
             "#f1b6da"
            ],
            [
             0.4,
             "#fde0ef"
            ],
            [
             0.5,
             "#f7f7f7"
            ],
            [
             0.6,
             "#e6f5d0"
            ],
            [
             0.7,
             "#b8e186"
            ],
            [
             0.8,
             "#7fbc41"
            ],
            [
             0.9,
             "#4d9221"
            ],
            [
             1,
             "#276419"
            ]
           ],
           "sequential": [
            [
             0,
             "#0d0887"
            ],
            [
             0.1111111111111111,
             "#46039f"
            ],
            [
             0.2222222222222222,
             "#7201a8"
            ],
            [
             0.3333333333333333,
             "#9c179e"
            ],
            [
             0.4444444444444444,
             "#bd3786"
            ],
            [
             0.5555555555555556,
             "#d8576b"
            ],
            [
             0.6666666666666666,
             "#ed7953"
            ],
            [
             0.7777777777777778,
             "#fb9f3a"
            ],
            [
             0.8888888888888888,
             "#fdca26"
            ],
            [
             1,
             "#f0f921"
            ]
           ],
           "sequentialminus": [
            [
             0,
             "#0d0887"
            ],
            [
             0.1111111111111111,
             "#46039f"
            ],
            [
             0.2222222222222222,
             "#7201a8"
            ],
            [
             0.3333333333333333,
             "#9c179e"
            ],
            [
             0.4444444444444444,
             "#bd3786"
            ],
            [
             0.5555555555555556,
             "#d8576b"
            ],
            [
             0.6666666666666666,
             "#ed7953"
            ],
            [
             0.7777777777777778,
             "#fb9f3a"
            ],
            [
             0.8888888888888888,
             "#fdca26"
            ],
            [
             1,
             "#f0f921"
            ]
           ]
          },
          "colorway": [
           "#636efa",
           "#EF553B",
           "#00cc96",
           "#ab63fa",
           "#FFA15A",
           "#19d3f3",
           "#FF6692",
           "#B6E880",
           "#FF97FF",
           "#FECB52"
          ],
          "font": {
           "color": "#2a3f5f"
          },
          "geo": {
           "bgcolor": "white",
           "lakecolor": "white",
           "landcolor": "#E5ECF6",
           "showlakes": true,
           "showland": true,
           "subunitcolor": "white"
          },
          "hoverlabel": {
           "align": "left"
          },
          "hovermode": "closest",
          "mapbox": {
           "style": "light"
          },
          "paper_bgcolor": "white",
          "plot_bgcolor": "#E5ECF6",
          "polar": {
           "angularaxis": {
            "gridcolor": "white",
            "linecolor": "white",
            "ticks": ""
           },
           "bgcolor": "#E5ECF6",
           "radialaxis": {
            "gridcolor": "white",
            "linecolor": "white",
            "ticks": ""
           }
          },
          "scene": {
           "xaxis": {
            "backgroundcolor": "#E5ECF6",
            "gridcolor": "white",
            "gridwidth": 2,
            "linecolor": "white",
            "showbackground": true,
            "ticks": "",
            "zerolinecolor": "white"
           },
           "yaxis": {
            "backgroundcolor": "#E5ECF6",
            "gridcolor": "white",
            "gridwidth": 2,
            "linecolor": "white",
            "showbackground": true,
            "ticks": "",
            "zerolinecolor": "white"
           },
           "zaxis": {
            "backgroundcolor": "#E5ECF6",
            "gridcolor": "white",
            "gridwidth": 2,
            "linecolor": "white",
            "showbackground": true,
            "ticks": "",
            "zerolinecolor": "white"
           }
          },
          "shapedefaults": {
           "line": {
            "color": "#2a3f5f"
           }
          },
          "ternary": {
           "aaxis": {
            "gridcolor": "white",
            "linecolor": "white",
            "ticks": ""
           },
           "baxis": {
            "gridcolor": "white",
            "linecolor": "white",
            "ticks": ""
           },
           "bgcolor": "#E5ECF6",
           "caxis": {
            "gridcolor": "white",
            "linecolor": "white",
            "ticks": ""
           }
          },
          "title": {
           "x": 0.05
          },
          "xaxis": {
           "automargin": true,
           "gridcolor": "white",
           "linecolor": "white",
           "ticks": "",
           "title": {
            "standoff": 15
           },
           "zerolinecolor": "white",
           "zerolinewidth": 2
          },
          "yaxis": {
           "automargin": true,
           "gridcolor": "white",
           "linecolor": "white",
           "ticks": "",
           "title": {
            "standoff": 15
           },
           "zerolinecolor": "white",
           "zerolinewidth": 2
          }
         }
        },
        "title": {
         "text": "Value of $10000 worth of AMZN stock over time"
        },
        "xaxis": {
         "anchor": "y",
         "domain": [
          0,
          1
         ],
         "title": {
          "text": "Date"
         }
        },
        "yaxis": {
         "anchor": "x",
         "domain": [
          0,
          1
         ],
         "title": {
          "text": "Investment Value ($)"
         }
        }
       }
      }
     },
     "metadata": {},
     "output_type": "display_data"
    }
   ],
   "source": [
    "# Parameter\n",
    "initial_investment = 10000\n",
    "start_date = '2023-02-01'\n",
    "end_date = '2023-08-31'\n",
    "ticker = 'AMZN'\n",
    "\n",
    "# Assuming 'stocks' is your DataFrame containing the stock data\n",
    "main(stocks, initial_investment, start_date, end_date, ticker)"
   ]
  },
  {
   "cell_type": "markdown",
   "metadata": {},
   "source": [
    "**QUESTION 3**"
   ]
  },
  {
   "cell_type": "code",
   "execution_count": 26,
   "metadata": {},
   "outputs": [
    {
     "name": "stderr",
     "output_type": "stream",
     "text": [
      "/var/folders/6_/w9g0lyhn5632jr666js3y_lw0000gn/T/ipykernel_90394/3821529557.py:3: DtypeWarning: Columns (5) have mixed types. Specify dtype option on import or set low_memory=False.\n",
      "  stocks2 = pd.read_csv('/Users/haivanle/Documents/2024 Empirical/stocks_Jan-Nov2023.csv')\n"
     ]
    }
   ],
   "source": [
    "# Assuming the questions are unrelated, except the initial investment is $10,000\n",
    "# Read data file and convert date to standard format\n",
    "stocks2 = pd.read_csv('/Users/haivanle/Documents/2024 Empirical/stocks_Jan-Nov2023.csv')\n",
    "stocks2['date'] = pd.to_datetime(stocks2['date'], errors = 'coerce')\n",
    "# Filter dates from May 1 - Nov 30, 2023\n",
    "stocks2 = stocks2[(stocks2['date'] >= '2023-05-01') & (stocks2['date'] <= '2023-11-30')]"
   ]
  },
  {
   "cell_type": "code",
   "execution_count": 27,
   "metadata": {},
   "outputs": [
    {
     "data": {
      "text/plain": [
       "count                         759274\n",
       "unique                          5390\n",
       "top       LIBERTY MEDIA CORP 3RD NEW\n",
       "freq                            1021\n",
       "Name: COMNAM, dtype: object"
      ]
     },
     "execution_count": 27,
     "metadata": {},
     "output_type": "execute_result"
    }
   ],
   "source": [
    "stocks2['COMNAM'].describe()"
   ]
  },
  {
   "cell_type": "code",
   "execution_count": 28,
   "metadata": {},
   "outputs": [
    {
     "data": {
      "text/plain": [
       "date      datetime64[ns]\n",
       "TICKER            object\n",
       "COMNAM            object\n",
       "PRC              float64\n",
       "VOL              float64\n",
       "RET               object\n",
       "SHROUT           float64\n",
       "dtype: object"
      ]
     },
     "execution_count": 28,
     "metadata": {},
     "output_type": "execute_result"
    }
   ],
   "source": [
    "stocks2.dtypes"
   ]
  },
  {
   "cell_type": "code",
   "execution_count": 29,
   "metadata": {},
   "outputs": [],
   "source": [
    "# Convert stocks return from object to float type\n",
    "# Ran into some errors since not all RET data are numbers so let's drop those. astype(float) won't work for string so \n",
    "# I used to_numeric\n",
    "stocks2['RET'] = pd.to_numeric(stocks2['RET'], errors='coerce')\n",
    "stocks2 = stocks2.dropna(subset=['RET'])"
   ]
  },
  {
   "cell_type": "code",
   "execution_count": 30,
   "metadata": {},
   "outputs": [
    {
     "data": {
      "text/html": [
       "<div>\n",
       "<style scoped>\n",
       "    .dataframe tbody tr th:only-of-type {\n",
       "        vertical-align: middle;\n",
       "    }\n",
       "\n",
       "    .dataframe tbody tr th {\n",
       "        vertical-align: top;\n",
       "    }\n",
       "\n",
       "    .dataframe thead th {\n",
       "        text-align: right;\n",
       "    }\n",
       "</style>\n",
       "<table border=\"1\" class=\"dataframe\">\n",
       "  <thead>\n",
       "    <tr style=\"text-align: right;\">\n",
       "      <th></th>\n",
       "      <th>date</th>\n",
       "      <th>TICKER</th>\n",
       "      <th>COMNAM</th>\n",
       "      <th>PRC</th>\n",
       "      <th>VOL</th>\n",
       "      <th>RET</th>\n",
       "      <th>SHROUT</th>\n",
       "    </tr>\n",
       "  </thead>\n",
       "  <tbody>\n",
       "    <tr>\n",
       "      <th>81</th>\n",
       "      <td>2023-05-01</td>\n",
       "      <td>JJSF</td>\n",
       "      <td>J &amp; J SNACK FOODS CORP</td>\n",
       "      <td>154.78000</td>\n",
       "      <td>125206.0</td>\n",
       "      <td>0.010313</td>\n",
       "      <td>19252.0</td>\n",
       "    </tr>\n",
       "    <tr>\n",
       "      <th>82</th>\n",
       "      <td>2023-05-02</td>\n",
       "      <td>JJSF</td>\n",
       "      <td>J &amp; J SNACK FOODS CORP</td>\n",
       "      <td>158.16000</td>\n",
       "      <td>104440.0</td>\n",
       "      <td>0.021837</td>\n",
       "      <td>19252.0</td>\n",
       "    </tr>\n",
       "    <tr>\n",
       "      <th>83</th>\n",
       "      <td>2023-05-03</td>\n",
       "      <td>JJSF</td>\n",
       "      <td>J &amp; J SNACK FOODS CORP</td>\n",
       "      <td>156.25999</td>\n",
       "      <td>79906.0</td>\n",
       "      <td>-0.012013</td>\n",
       "      <td>19252.0</td>\n",
       "    </tr>\n",
       "    <tr>\n",
       "      <th>84</th>\n",
       "      <td>2023-05-04</td>\n",
       "      <td>JJSF</td>\n",
       "      <td>J &amp; J SNACK FOODS CORP</td>\n",
       "      <td>158.77000</td>\n",
       "      <td>71960.0</td>\n",
       "      <td>0.016063</td>\n",
       "      <td>19252.0</td>\n",
       "    </tr>\n",
       "    <tr>\n",
       "      <th>85</th>\n",
       "      <td>2023-05-05</td>\n",
       "      <td>JJSF</td>\n",
       "      <td>J &amp; J SNACK FOODS CORP</td>\n",
       "      <td>162.80000</td>\n",
       "      <td>66716.0</td>\n",
       "      <td>0.025383</td>\n",
       "      <td>19252.0</td>\n",
       "    </tr>\n",
       "    <tr>\n",
       "      <th>...</th>\n",
       "      <td>...</td>\n",
       "      <td>...</td>\n",
       "      <td>...</td>\n",
       "      <td>...</td>\n",
       "      <td>...</td>\n",
       "      <td>...</td>\n",
       "      <td>...</td>\n",
       "    </tr>\n",
       "    <tr>\n",
       "      <th>1184193</th>\n",
       "      <td>2023-11-24</td>\n",
       "      <td>TSLA</td>\n",
       "      <td>TESLA INC</td>\n",
       "      <td>235.45000</td>\n",
       "      <td>64790526.0</td>\n",
       "      <td>0.005294</td>\n",
       "      <td>3179000.0</td>\n",
       "    </tr>\n",
       "    <tr>\n",
       "      <th>1184194</th>\n",
       "      <td>2023-11-27</td>\n",
       "      <td>TSLA</td>\n",
       "      <td>TESLA INC</td>\n",
       "      <td>236.08000</td>\n",
       "      <td>111514924.0</td>\n",
       "      <td>0.002676</td>\n",
       "      <td>3179000.0</td>\n",
       "    </tr>\n",
       "    <tr>\n",
       "      <th>1184195</th>\n",
       "      <td>2023-11-28</td>\n",
       "      <td>TSLA</td>\n",
       "      <td>TESLA INC</td>\n",
       "      <td>246.72000</td>\n",
       "      <td>147518559.0</td>\n",
       "      <td>0.045069</td>\n",
       "      <td>3179000.0</td>\n",
       "    </tr>\n",
       "    <tr>\n",
       "      <th>1184196</th>\n",
       "      <td>2023-11-29</td>\n",
       "      <td>TSLA</td>\n",
       "      <td>TESLA INC</td>\n",
       "      <td>244.14000</td>\n",
       "      <td>134917402.0</td>\n",
       "      <td>-0.010457</td>\n",
       "      <td>3179000.0</td>\n",
       "    </tr>\n",
       "    <tr>\n",
       "      <th>1184197</th>\n",
       "      <td>2023-11-30</td>\n",
       "      <td>TSLA</td>\n",
       "      <td>TESLA INC</td>\n",
       "      <td>240.08000</td>\n",
       "      <td>131686044.0</td>\n",
       "      <td>-0.016630</td>\n",
       "      <td>3179000.0</td>\n",
       "    </tr>\n",
       "  </tbody>\n",
       "</table>\n",
       "<p>758232 rows × 7 columns</p>\n",
       "</div>"
      ],
      "text/plain": [
       "              date TICKER                  COMNAM        PRC          VOL  \\\n",
       "81      2023-05-01   JJSF  J & J SNACK FOODS CORP  154.78000     125206.0   \n",
       "82      2023-05-02   JJSF  J & J SNACK FOODS CORP  158.16000     104440.0   \n",
       "83      2023-05-03   JJSF  J & J SNACK FOODS CORP  156.25999      79906.0   \n",
       "84      2023-05-04   JJSF  J & J SNACK FOODS CORP  158.77000      71960.0   \n",
       "85      2023-05-05   JJSF  J & J SNACK FOODS CORP  162.80000      66716.0   \n",
       "...            ...    ...                     ...        ...          ...   \n",
       "1184193 2023-11-24   TSLA               TESLA INC  235.45000   64790526.0   \n",
       "1184194 2023-11-27   TSLA               TESLA INC  236.08000  111514924.0   \n",
       "1184195 2023-11-28   TSLA               TESLA INC  246.72000  147518559.0   \n",
       "1184196 2023-11-29   TSLA               TESLA INC  244.14000  134917402.0   \n",
       "1184197 2023-11-30   TSLA               TESLA INC  240.08000  131686044.0   \n",
       "\n",
       "              RET     SHROUT  \n",
       "81       0.010313    19252.0  \n",
       "82       0.021837    19252.0  \n",
       "83      -0.012013    19252.0  \n",
       "84       0.016063    19252.0  \n",
       "85       0.025383    19252.0  \n",
       "...           ...        ...  \n",
       "1184193  0.005294  3179000.0  \n",
       "1184194  0.002676  3179000.0  \n",
       "1184195  0.045069  3179000.0  \n",
       "1184196 -0.010457  3179000.0  \n",
       "1184197 -0.016630  3179000.0  \n",
       "\n",
       "[758232 rows x 7 columns]"
      ]
     },
     "execution_count": 30,
     "metadata": {},
     "output_type": "execute_result"
    }
   ],
   "source": [
    "stocks2"
   ]
  },
  {
   "cell_type": "code",
   "execution_count": 31,
   "metadata": {},
   "outputs": [],
   "source": [
    "# Create a dictionary to store cumulative returns for each company\n",
    "cumulative_returns_dict = {}\n",
    "\n",
    "for ticker in stocks2['TICKER'].unique():\n",
    "    # Filter the dataset for each company\n",
    "    company_data = stocks2[stocks2['TICKER'] == ticker].copy()\n",
    "    \n",
    "    # Calculate cumulative returns and create a new column\n",
    "    company_data['investment_value'] = initial_investment * (1 + company_data['RET']).cumprod()\n",
    "    \n",
    "    # Store the result in the dictionary\n",
    "    cumulative_returns_dict[ticker] = company_data[['date', 'TICKER', 'investment_value']]\n",
    "\n",
    "# Concatenate the results into a new DataFrame\n",
    "cumulative_returns_df = pd.concat(cumulative_returns_dict.values())"
   ]
  },
  {
   "cell_type": "code",
   "execution_count": 32,
   "metadata": {},
   "outputs": [
    {
     "data": {
      "text/html": [
       "<div>\n",
       "<style scoped>\n",
       "    .dataframe tbody tr th:only-of-type {\n",
       "        vertical-align: middle;\n",
       "    }\n",
       "\n",
       "    .dataframe tbody tr th {\n",
       "        vertical-align: top;\n",
       "    }\n",
       "\n",
       "    .dataframe thead th {\n",
       "        text-align: right;\n",
       "    }\n",
       "</style>\n",
       "<table border=\"1\" class=\"dataframe\">\n",
       "  <thead>\n",
       "    <tr style=\"text-align: right;\">\n",
       "      <th></th>\n",
       "      <th>date</th>\n",
       "      <th>TICKER</th>\n",
       "      <th>investment_value</th>\n",
       "    </tr>\n",
       "  </thead>\n",
       "  <tbody>\n",
       "    <tr>\n",
       "      <th>81</th>\n",
       "      <td>2023-05-01</td>\n",
       "      <td>JJSF</td>\n",
       "      <td>10103.130000</td>\n",
       "    </tr>\n",
       "    <tr>\n",
       "      <th>82</th>\n",
       "      <td>2023-05-02</td>\n",
       "      <td>JJSF</td>\n",
       "      <td>10323.752050</td>\n",
       "    </tr>\n",
       "    <tr>\n",
       "      <th>83</th>\n",
       "      <td>2023-05-03</td>\n",
       "      <td>JJSF</td>\n",
       "      <td>10199.732816</td>\n",
       "    </tr>\n",
       "    <tr>\n",
       "      <th>84</th>\n",
       "      <td>2023-05-04</td>\n",
       "      <td>JJSF</td>\n",
       "      <td>10363.571125</td>\n",
       "    </tr>\n",
       "    <tr>\n",
       "      <th>85</th>\n",
       "      <td>2023-05-05</td>\n",
       "      <td>JJSF</td>\n",
       "      <td>10626.629651</td>\n",
       "    </tr>\n",
       "  </tbody>\n",
       "</table>\n",
       "</div>"
      ],
      "text/plain": [
       "         date TICKER  investment_value\n",
       "81 2023-05-01   JJSF      10103.130000\n",
       "82 2023-05-02   JJSF      10323.752050\n",
       "83 2023-05-03   JJSF      10199.732816\n",
       "84 2023-05-04   JJSF      10363.571125\n",
       "85 2023-05-05   JJSF      10626.629651"
      ]
     },
     "execution_count": 32,
     "metadata": {},
     "output_type": "execute_result"
    }
   ],
   "source": [
    "cumulative_returns_df.head()"
   ]
  },
  {
   "cell_type": "markdown",
   "metadata": {},
   "source": [
    "**QUESTION 4**"
   ]
  },
  {
   "cell_type": "code",
   "execution_count": 34,
   "metadata": {},
   "outputs": [
    {
     "data": {
      "text/html": [
       "<div>\n",
       "<style scoped>\n",
       "    .dataframe tbody tr th:only-of-type {\n",
       "        vertical-align: middle;\n",
       "    }\n",
       "\n",
       "    .dataframe tbody tr th {\n",
       "        vertical-align: top;\n",
       "    }\n",
       "\n",
       "    .dataframe thead th {\n",
       "        text-align: right;\n",
       "    }\n",
       "</style>\n",
       "<table border=\"1\" class=\"dataframe\">\n",
       "  <thead>\n",
       "    <tr style=\"text-align: right;\">\n",
       "      <th></th>\n",
       "      <th>filename</th>\n",
       "      <th>accession_num</th>\n",
       "      <th>footnote</th>\n",
       "      <th>index</th>\n",
       "      <th>field</th>\n",
       "      <th>text</th>\n",
       "    </tr>\n",
       "  </thead>\n",
       "  <tbody>\n",
       "    <tr>\n",
       "      <th>0</th>\n",
       "      <td>1929335_2_0000899243-23-016238.txt</td>\n",
       "      <td>0000899243-23-016238</td>\n",
       "      <td>F1</td>\n",
       "      <td>derivTrans1</td>\n",
       "      <td>exerciseDate</td>\n",
       "      <td>The option will vest and become exercisable at...</td>\n",
       "    </tr>\n",
       "    <tr>\n",
       "      <th>1</th>\n",
       "      <td>1124105_4_0001140361-23-050019.txt</td>\n",
       "      <td>0001140361-23-050019</td>\n",
       "      <td>F1</td>\n",
       "      <td>nonDerivTrans1</td>\n",
       "      <td>transactionCoding</td>\n",
       "      <td>Represents an internal transfer by the Reporti...</td>\n",
       "    </tr>\n",
       "    <tr>\n",
       "      <th>2</th>\n",
       "      <td>1124105_4_0001140361-23-050019.txt</td>\n",
       "      <td>0001140361-23-050019</td>\n",
       "      <td>F1</td>\n",
       "      <td>nonDerivTrans1</td>\n",
       "      <td>transactionPricePerShare</td>\n",
       "      <td>Represents an internal transfer by the Reporti...</td>\n",
       "    </tr>\n",
       "    <tr>\n",
       "      <th>3</th>\n",
       "      <td>1124105_4_0001140361-23-050019.txt</td>\n",
       "      <td>0001140361-23-050019</td>\n",
       "      <td>F2</td>\n",
       "      <td>derivTrans1</td>\n",
       "      <td>conversionOrExercisePrice</td>\n",
       "      <td>Shares of Series X Convertible Preferred Stock...</td>\n",
       "    </tr>\n",
       "    <tr>\n",
       "      <th>4</th>\n",
       "      <td>1124105_4_0001140361-23-050019.txt</td>\n",
       "      <td>0001140361-23-050019</td>\n",
       "      <td>F1</td>\n",
       "      <td>derivTrans1</td>\n",
       "      <td>transactionCoding</td>\n",
       "      <td>Represents an internal transfer by the Reporti...</td>\n",
       "    </tr>\n",
       "  </tbody>\n",
       "</table>\n",
       "</div>"
      ],
      "text/plain": [
       "                             filename         accession_num footnote  \\\n",
       "0  1929335_2_0000899243-23-016238.txt  0000899243-23-016238       F1   \n",
       "1  1124105_4_0001140361-23-050019.txt  0001140361-23-050019       F1   \n",
       "2  1124105_4_0001140361-23-050019.txt  0001140361-23-050019       F1   \n",
       "3  1124105_4_0001140361-23-050019.txt  0001140361-23-050019       F2   \n",
       "4  1124105_4_0001140361-23-050019.txt  0001140361-23-050019       F1   \n",
       "\n",
       "            index                      field  \\\n",
       "0     derivTrans1               exerciseDate   \n",
       "1  nonDerivTrans1          transactionCoding   \n",
       "2  nonDerivTrans1   transactionPricePerShare   \n",
       "3     derivTrans1  conversionOrExercisePrice   \n",
       "4     derivTrans1          transactionCoding   \n",
       "\n",
       "                                                text  \n",
       "0  The option will vest and become exercisable at...  \n",
       "1  Represents an internal transfer by the Reporti...  \n",
       "2  Represents an internal transfer by the Reporti...  \n",
       "3  Shares of Series X Convertible Preferred Stock...  \n",
       "4  Represents an internal transfer by the Reporti...  "
      ]
     },
     "execution_count": 34,
     "metadata": {},
     "output_type": "execute_result"
    }
   ],
   "source": [
    "footnote = pd.read_csv('/Users/haivanle/Documents/2024 Empirical/footnotes.csv')\n",
    "footnote.head()"
   ]
  },
  {
   "cell_type": "code",
   "execution_count": 35,
   "metadata": {},
   "outputs": [
    {
     "data": {
      "text/html": [
       "<div>\n",
       "<style scoped>\n",
       "    .dataframe tbody tr th:only-of-type {\n",
       "        vertical-align: middle;\n",
       "    }\n",
       "\n",
       "    .dataframe tbody tr th {\n",
       "        vertical-align: top;\n",
       "    }\n",
       "\n",
       "    .dataframe thead th {\n",
       "        text-align: right;\n",
       "    }\n",
       "</style>\n",
       "<table border=\"1\" class=\"dataframe\">\n",
       "  <thead>\n",
       "    <tr style=\"text-align: right;\">\n",
       "      <th></th>\n",
       "      <th>filename</th>\n",
       "      <th>accession_num</th>\n",
       "      <th>footnote</th>\n",
       "      <th>index</th>\n",
       "      <th>field</th>\n",
       "      <th>text</th>\n",
       "    </tr>\n",
       "  </thead>\n",
       "  <tbody>\n",
       "    <tr>\n",
       "      <th>count</th>\n",
       "      <td>1746554</td>\n",
       "      <td>1746554</td>\n",
       "      <td>1746554</td>\n",
       "      <td>1746554</td>\n",
       "      <td>1746554</td>\n",
       "      <td>1734910</td>\n",
       "    </tr>\n",
       "    <tr>\n",
       "      <th>unique</th>\n",
       "      <td>330492</td>\n",
       "      <td>158222</td>\n",
       "      <td>41</td>\n",
       "      <td>117</td>\n",
       "      <td>19</td>\n",
       "      <td>157366</td>\n",
       "    </tr>\n",
       "    <tr>\n",
       "      <th>top</th>\n",
       "      <td>1601463_1_0000899243-23-009615.txt</td>\n",
       "      <td>0000899243-23-009615</td>\n",
       "      <td>F1</td>\n",
       "      <td>nonDerivTrans1</td>\n",
       "      <td>exerciseDate</td>\n",
       "      <td>Restricted stock units convert into common sto...</td>\n",
       "    </tr>\n",
       "    <tr>\n",
       "      <th>freq</th>\n",
       "      <td>338</td>\n",
       "      <td>2704</td>\n",
       "      <td>612944</td>\n",
       "      <td>404647</td>\n",
       "      <td>263827</td>\n",
       "      <td>5280</td>\n",
       "    </tr>\n",
       "  </tbody>\n",
       "</table>\n",
       "</div>"
      ],
      "text/plain": [
       "                                  filename         accession_num footnote  \\\n",
       "count                              1746554               1746554  1746554   \n",
       "unique                              330492                158222       41   \n",
       "top     1601463_1_0000899243-23-009615.txt  0000899243-23-009615       F1   \n",
       "freq                                   338                  2704   612944   \n",
       "\n",
       "                 index         field  \\\n",
       "count          1746554       1746554   \n",
       "unique             117            19   \n",
       "top     nonDerivTrans1  exerciseDate   \n",
       "freq            404647        263827   \n",
       "\n",
       "                                                     text  \n",
       "count                                             1734910  \n",
       "unique                                             157366  \n",
       "top     Restricted stock units convert into common sto...  \n",
       "freq                                                 5280  "
      ]
     },
     "execution_count": 35,
     "metadata": {},
     "output_type": "execute_result"
    }
   ],
   "source": [
    "footnote.describe()"
   ]
  },
  {
   "cell_type": "code",
   "execution_count": 36,
   "metadata": {},
   "outputs": [
    {
     "data": {
      "text/html": [
       "<div>\n",
       "<style scoped>\n",
       "    .dataframe tbody tr th:only-of-type {\n",
       "        vertical-align: middle;\n",
       "    }\n",
       "\n",
       "    .dataframe tbody tr th {\n",
       "        vertical-align: top;\n",
       "    }\n",
       "\n",
       "    .dataframe thead th {\n",
       "        text-align: right;\n",
       "    }\n",
       "</style>\n",
       "<table border=\"1\" class=\"dataframe\">\n",
       "  <thead>\n",
       "    <tr style=\"text-align: right;\">\n",
       "      <th></th>\n",
       "      <th>filename</th>\n",
       "      <th>accession_num</th>\n",
       "      <th>footnote</th>\n",
       "      <th>index</th>\n",
       "      <th>field</th>\n",
       "      <th>text</th>\n",
       "    </tr>\n",
       "  </thead>\n",
       "  <tbody>\n",
       "    <tr>\n",
       "      <th>count</th>\n",
       "      <td>1746554</td>\n",
       "      <td>1746554</td>\n",
       "      <td>1746554</td>\n",
       "      <td>1746554</td>\n",
       "      <td>1746554</td>\n",
       "      <td>1734910</td>\n",
       "    </tr>\n",
       "    <tr>\n",
       "      <th>unique</th>\n",
       "      <td>330492</td>\n",
       "      <td>158222</td>\n",
       "      <td>41</td>\n",
       "      <td>117</td>\n",
       "      <td>19</td>\n",
       "      <td>157366</td>\n",
       "    </tr>\n",
       "    <tr>\n",
       "      <th>top</th>\n",
       "      <td>1601463_1_0000899243-23-009615.txt</td>\n",
       "      <td>0000899243-23-009615</td>\n",
       "      <td>F1</td>\n",
       "      <td>nonDerivTrans1</td>\n",
       "      <td>exerciseDate</td>\n",
       "      <td>Restricted stock units convert into common sto...</td>\n",
       "    </tr>\n",
       "    <tr>\n",
       "      <th>freq</th>\n",
       "      <td>338</td>\n",
       "      <td>2704</td>\n",
       "      <td>612944</td>\n",
       "      <td>404647</td>\n",
       "      <td>263827</td>\n",
       "      <td>5280</td>\n",
       "    </tr>\n",
       "  </tbody>\n",
       "</table>\n",
       "</div>"
      ],
      "text/plain": [
       "                                  filename         accession_num footnote  \\\n",
       "count                              1746554               1746554  1746554   \n",
       "unique                              330492                158222       41   \n",
       "top     1601463_1_0000899243-23-009615.txt  0000899243-23-009615       F1   \n",
       "freq                                   338                  2704   612944   \n",
       "\n",
       "                 index         field  \\\n",
       "count          1746554       1746554   \n",
       "unique             117            19   \n",
       "top     nonDerivTrans1  exerciseDate   \n",
       "freq            404647        263827   \n",
       "\n",
       "                                                     text  \n",
       "count                                             1734910  \n",
       "unique                                             157366  \n",
       "top     Restricted stock units convert into common sto...  \n",
       "freq                                                 5280  "
      ]
     },
     "execution_count": 36,
     "metadata": {},
     "output_type": "execute_result"
    }
   ],
   "source": [
    "footnote = footnote.drop_duplicates()\n",
    "footnote.describe()"
   ]
  },
  {
   "cell_type": "code",
   "execution_count": 39,
   "metadata": {},
   "outputs": [
    {
     "data": {
      "text/html": [
       "<div>\n",
       "<style scoped>\n",
       "    .dataframe tbody tr th:only-of-type {\n",
       "        vertical-align: middle;\n",
       "    }\n",
       "\n",
       "    .dataframe tbody tr th {\n",
       "        vertical-align: top;\n",
       "    }\n",
       "\n",
       "    .dataframe thead th {\n",
       "        text-align: right;\n",
       "    }\n",
       "</style>\n",
       "<table border=\"1\" class=\"dataframe\">\n",
       "  <thead>\n",
       "    <tr style=\"text-align: right;\">\n",
       "      <th></th>\n",
       "      <th>order</th>\n",
       "      <th>price</th>\n",
       "      <th>shares</th>\n",
       "      <th>shares_owned</th>\n",
       "      <th>CIK</th>\n",
       "    </tr>\n",
       "  </thead>\n",
       "  <tbody>\n",
       "    <tr>\n",
       "      <th>count</th>\n",
       "      <td>348271.000000</td>\n",
       "      <td>2.507070e+05</td>\n",
       "      <td>2.707650e+05</td>\n",
       "      <td>3.481880e+05</td>\n",
       "      <td>3.482710e+05</td>\n",
       "    </tr>\n",
       "    <tr>\n",
       "      <th>mean</th>\n",
       "      <td>2.395755</td>\n",
       "      <td>5.136221e+02</td>\n",
       "      <td>3.104011e+05</td>\n",
       "      <td>4.754228e+06</td>\n",
       "      <td>1.157756e+06</td>\n",
       "    </tr>\n",
       "    <tr>\n",
       "      <th>std</th>\n",
       "      <td>2.880249</td>\n",
       "      <td>8.749722e+04</td>\n",
       "      <td>2.356394e+07</td>\n",
       "      <td>9.847200e+07</td>\n",
       "      <td>5.526566e+05</td>\n",
       "    </tr>\n",
       "    <tr>\n",
       "      <th>min</th>\n",
       "      <td>1.000000</td>\n",
       "      <td>0.000000e+00</td>\n",
       "      <td>0.000000e+00</td>\n",
       "      <td>0.000000e+00</td>\n",
       "      <td>1.750000e+03</td>\n",
       "    </tr>\n",
       "    <tr>\n",
       "      <th>25%</th>\n",
       "      <td>1.000000</td>\n",
       "      <td>0.000000e+00</td>\n",
       "      <td>7.220000e+02</td>\n",
       "      <td>1.110000e+04</td>\n",
       "      <td>8.607300e+05</td>\n",
       "    </tr>\n",
       "    <tr>\n",
       "      <th>50%</th>\n",
       "      <td>1.000000</td>\n",
       "      <td>1.229000e+01</td>\n",
       "      <td>3.069000e+03</td>\n",
       "      <td>5.112400e+04</td>\n",
       "      <td>1.273685e+06</td>\n",
       "    </tr>\n",
       "    <tr>\n",
       "      <th>75%</th>\n",
       "      <td>3.000000</td>\n",
       "      <td>5.692000e+01</td>\n",
       "      <td>1.395300e+04</td>\n",
       "      <td>2.503385e+05</td>\n",
       "      <td>1.620393e+06</td>\n",
       "    </tr>\n",
       "    <tr>\n",
       "      <th>max</th>\n",
       "      <td>30.000000</td>\n",
       "      <td>2.950000e+07</td>\n",
       "      <td>8.456000e+09</td>\n",
       "      <td>8.985000e+09</td>\n",
       "      <td>1.996862e+06</td>\n",
       "    </tr>\n",
       "  </tbody>\n",
       "</table>\n",
       "</div>"
      ],
      "text/plain": [
       "               order         price        shares  shares_owned           CIK\n",
       "count  348271.000000  2.507070e+05  2.707650e+05  3.481880e+05  3.482710e+05\n",
       "mean        2.395755  5.136221e+02  3.104011e+05  4.754228e+06  1.157756e+06\n",
       "std         2.880249  8.749722e+04  2.356394e+07  9.847200e+07  5.526566e+05\n",
       "min         1.000000  0.000000e+00  0.000000e+00  0.000000e+00  1.750000e+03\n",
       "25%         1.000000  0.000000e+00  7.220000e+02  1.110000e+04  8.607300e+05\n",
       "50%         1.000000  1.229000e+01  3.069000e+03  5.112400e+04  1.273685e+06\n",
       "75%         3.000000  5.692000e+01  1.395300e+04  2.503385e+05  1.620393e+06\n",
       "max        30.000000  2.950000e+07  8.456000e+09  8.985000e+09  1.996862e+06"
      ]
     },
     "execution_count": 39,
     "metadata": {},
     "output_type": "execute_result"
    }
   ],
   "source": [
    "# Read the csv file and view a few rows\n",
    "trades2 = pd.read_csv('/Users/haivanle/Documents/2024 Empirical/trades.csv')\n",
    "trades2 = trades2.drop_duplicates()\n",
    "trades2.describe()"
   ]
  },
  {
   "cell_type": "code",
   "execution_count": 40,
   "metadata": {},
   "outputs": [
    {
     "data": {
      "text/html": [
       "<div>\n",
       "<style scoped>\n",
       "    .dataframe tbody tr th:only-of-type {\n",
       "        vertical-align: middle;\n",
       "    }\n",
       "\n",
       "    .dataframe tbody tr th {\n",
       "        vertical-align: top;\n",
       "    }\n",
       "\n",
       "    .dataframe thead th {\n",
       "        text-align: right;\n",
       "    }\n",
       "</style>\n",
       "<table border=\"1\" class=\"dataframe\">\n",
       "  <thead>\n",
       "    <tr style=\"text-align: right;\">\n",
       "      <th></th>\n",
       "      <th>accession_num</th>\n",
       "      <th>order</th>\n",
       "      <th>trans_date</th>\n",
       "      <th>trans_type</th>\n",
       "      <th>price</th>\n",
       "      <th>shares</th>\n",
       "      <th>shares_owned</th>\n",
       "      <th>CIK</th>\n",
       "      <th>name</th>\n",
       "      <th>ticker</th>\n",
       "      <th>dummy</th>\n",
       "    </tr>\n",
       "  </thead>\n",
       "  <tbody>\n",
       "    <tr>\n",
       "      <th>0</th>\n",
       "      <td>0001140361-23-050019</td>\n",
       "      <td>1</td>\n",
       "      <td>10/27/2023</td>\n",
       "      <td>D</td>\n",
       "      <td>NaN</td>\n",
       "      <td>5371304.0</td>\n",
       "      <td>0.0</td>\n",
       "      <td>1124105</td>\n",
       "      <td>CATALYST BIOSCIENCES, INC.</td>\n",
       "      <td>CBIO</td>\n",
       "      <td>1</td>\n",
       "    </tr>\n",
       "    <tr>\n",
       "      <th>1</th>\n",
       "      <td>0000885550-23-000118</td>\n",
       "      <td>1</td>\n",
       "      <td>11/14/2023</td>\n",
       "      <td>D</td>\n",
       "      <td>418.04</td>\n",
       "      <td>115.0</td>\n",
       "      <td>6173.0</td>\n",
       "      <td>885550</td>\n",
       "      <td>CREDIT ACCEPTANCE CORP</td>\n",
       "      <td>CACC</td>\n",
       "      <td>1</td>\n",
       "    </tr>\n",
       "    <tr>\n",
       "      <th>2</th>\n",
       "      <td>0000885550-23-000118</td>\n",
       "      <td>2</td>\n",
       "      <td>11/14/2023</td>\n",
       "      <td>D</td>\n",
       "      <td>419.62</td>\n",
       "      <td>100.0</td>\n",
       "      <td>6073.0</td>\n",
       "      <td>885550</td>\n",
       "      <td>CREDIT ACCEPTANCE CORP</td>\n",
       "      <td>CACC</td>\n",
       "      <td>1</td>\n",
       "    </tr>\n",
       "    <tr>\n",
       "      <th>3</th>\n",
       "      <td>0000885550-23-000118</td>\n",
       "      <td>3</td>\n",
       "      <td>11/14/2023</td>\n",
       "      <td>D</td>\n",
       "      <td>420.72</td>\n",
       "      <td>2240.0</td>\n",
       "      <td>3833.0</td>\n",
       "      <td>885550</td>\n",
       "      <td>CREDIT ACCEPTANCE CORP</td>\n",
       "      <td>CACC</td>\n",
       "      <td>1</td>\n",
       "    </tr>\n",
       "    <tr>\n",
       "      <th>4</th>\n",
       "      <td>0000885550-23-000118</td>\n",
       "      <td>4</td>\n",
       "      <td>11/14/2023</td>\n",
       "      <td>D</td>\n",
       "      <td>421.38</td>\n",
       "      <td>459.0</td>\n",
       "      <td>3374.0</td>\n",
       "      <td>885550</td>\n",
       "      <td>CREDIT ACCEPTANCE CORP</td>\n",
       "      <td>CACC</td>\n",
       "      <td>1</td>\n",
       "    </tr>\n",
       "  </tbody>\n",
       "</table>\n",
       "</div>"
      ],
      "text/plain": [
       "          accession_num  order  trans_date trans_type   price     shares  \\\n",
       "0  0001140361-23-050019      1  10/27/2023          D     NaN  5371304.0   \n",
       "1  0000885550-23-000118      1  11/14/2023          D  418.04      115.0   \n",
       "2  0000885550-23-000118      2  11/14/2023          D  419.62      100.0   \n",
       "3  0000885550-23-000118      3  11/14/2023          D  420.72     2240.0   \n",
       "4  0000885550-23-000118      4  11/14/2023          D  421.38      459.0   \n",
       "\n",
       "   shares_owned      CIK                        name ticker  dummy  \n",
       "0           0.0  1124105  CATALYST BIOSCIENCES, INC.   CBIO      1  \n",
       "1        6173.0   885550      CREDIT ACCEPTANCE CORP   CACC      1  \n",
       "2        6073.0   885550      CREDIT ACCEPTANCE CORP   CACC      1  \n",
       "3        3833.0   885550      CREDIT ACCEPTANCE CORP   CACC      1  \n",
       "4        3374.0   885550      CREDIT ACCEPTANCE CORP   CACC      1  "
      ]
     },
     "execution_count": 40,
     "metadata": {},
     "output_type": "execute_result"
    }
   ],
   "source": [
    "# I may have misunderstood this question. What I did is I created a dummy variable for the transaction whose accession_num\n",
    "# also exists in the footnote.csv dataset. Using isin, instead of giving me T/F values, I used astype int so the dummy == 1 \n",
    "# if the accession_num exists in both trades and footnote dataset. Otherwise, 0.   \n",
    "trades2['dummy'] = trades2['accession_num'].isin(footnote['accession_num']).astype(int)\n",
    "trades2.head()"
   ]
  },
  {
   "cell_type": "code",
   "execution_count": 41,
   "metadata": {},
   "outputs": [
    {
     "data": {
      "text/plain": [
       "0.9057572981959451"
      ]
     },
     "execution_count": 41,
     "metadata": {},
     "output_type": "execute_result"
    }
   ],
   "source": [
    "trades2['dummy'].mean()"
   ]
  },
  {
   "cell_type": "code",
   "execution_count": 42,
   "metadata": {},
   "outputs": [
    {
     "data": {
      "text/html": [
       "<div>\n",
       "<style scoped>\n",
       "    .dataframe tbody tr th:only-of-type {\n",
       "        vertical-align: middle;\n",
       "    }\n",
       "\n",
       "    .dataframe tbody tr th {\n",
       "        vertical-align: top;\n",
       "    }\n",
       "\n",
       "    .dataframe thead th {\n",
       "        text-align: right;\n",
       "    }\n",
       "</style>\n",
       "<table border=\"1\" class=\"dataframe\">\n",
       "  <thead>\n",
       "    <tr style=\"text-align: right;\">\n",
       "      <th></th>\n",
       "      <th>accession_num</th>\n",
       "      <th>order</th>\n",
       "      <th>trans_date</th>\n",
       "      <th>trans_type</th>\n",
       "      <th>price</th>\n",
       "      <th>shares</th>\n",
       "      <th>shares_owned</th>\n",
       "      <th>CIK</th>\n",
       "      <th>name</th>\n",
       "      <th>ticker</th>\n",
       "      <th>dummy</th>\n",
       "    </tr>\n",
       "  </thead>\n",
       "  <tbody>\n",
       "    <tr>\n",
       "      <th>0</th>\n",
       "      <td>0001140361-23-050019</td>\n",
       "      <td>1</td>\n",
       "      <td>10/27/2023</td>\n",
       "      <td>D</td>\n",
       "      <td>NaN</td>\n",
       "      <td>5371304.0</td>\n",
       "      <td>0.0</td>\n",
       "      <td>1124105</td>\n",
       "      <td>CATALYST BIOSCIENCES, INC.</td>\n",
       "      <td>CBIO</td>\n",
       "      <td>0</td>\n",
       "    </tr>\n",
       "    <tr>\n",
       "      <th>1</th>\n",
       "      <td>0000885550-23-000118</td>\n",
       "      <td>1</td>\n",
       "      <td>11/14/2023</td>\n",
       "      <td>D</td>\n",
       "      <td>418.04</td>\n",
       "      <td>115.0</td>\n",
       "      <td>6173.0</td>\n",
       "      <td>885550</td>\n",
       "      <td>CREDIT ACCEPTANCE CORP</td>\n",
       "      <td>CACC</td>\n",
       "      <td>0</td>\n",
       "    </tr>\n",
       "    <tr>\n",
       "      <th>2</th>\n",
       "      <td>0000885550-23-000118</td>\n",
       "      <td>2</td>\n",
       "      <td>11/14/2023</td>\n",
       "      <td>D</td>\n",
       "      <td>419.62</td>\n",
       "      <td>100.0</td>\n",
       "      <td>6073.0</td>\n",
       "      <td>885550</td>\n",
       "      <td>CREDIT ACCEPTANCE CORP</td>\n",
       "      <td>CACC</td>\n",
       "      <td>0</td>\n",
       "    </tr>\n",
       "    <tr>\n",
       "      <th>3</th>\n",
       "      <td>0000885550-23-000118</td>\n",
       "      <td>3</td>\n",
       "      <td>11/14/2023</td>\n",
       "      <td>D</td>\n",
       "      <td>420.72</td>\n",
       "      <td>2240.0</td>\n",
       "      <td>3833.0</td>\n",
       "      <td>885550</td>\n",
       "      <td>CREDIT ACCEPTANCE CORP</td>\n",
       "      <td>CACC</td>\n",
       "      <td>0</td>\n",
       "    </tr>\n",
       "    <tr>\n",
       "      <th>4</th>\n",
       "      <td>0000885550-23-000118</td>\n",
       "      <td>4</td>\n",
       "      <td>11/14/2023</td>\n",
       "      <td>D</td>\n",
       "      <td>421.38</td>\n",
       "      <td>459.0</td>\n",
       "      <td>3374.0</td>\n",
       "      <td>885550</td>\n",
       "      <td>CREDIT ACCEPTANCE CORP</td>\n",
       "      <td>CACC</td>\n",
       "      <td>0</td>\n",
       "    </tr>\n",
       "  </tbody>\n",
       "</table>\n",
       "</div>"
      ],
      "text/plain": [
       "          accession_num  order  trans_date trans_type   price     shares  \\\n",
       "0  0001140361-23-050019      1  10/27/2023          D     NaN  5371304.0   \n",
       "1  0000885550-23-000118      1  11/14/2023          D  418.04      115.0   \n",
       "2  0000885550-23-000118      2  11/14/2023          D  419.62      100.0   \n",
       "3  0000885550-23-000118      3  11/14/2023          D  420.72     2240.0   \n",
       "4  0000885550-23-000118      4  11/14/2023          D  421.38      459.0   \n",
       "\n",
       "   shares_owned      CIK                        name ticker  dummy  \n",
       "0           0.0  1124105  CATALYST BIOSCIENCES, INC.   CBIO      0  \n",
       "1        6173.0   885550      CREDIT ACCEPTANCE CORP   CACC      0  \n",
       "2        6073.0   885550      CREDIT ACCEPTANCE CORP   CACC      0  \n",
       "3        3833.0   885550      CREDIT ACCEPTANCE CORP   CACC      0  \n",
       "4        3374.0   885550      CREDIT ACCEPTANCE CORP   CACC      0  "
      ]
     },
     "execution_count": 42,
     "metadata": {},
     "output_type": "execute_result"
    }
   ],
   "source": [
    "# I changed the dummy values, 0 to 1 and vice versa so it matched with the requirement \"equals 1 if and only if the transaction was pursuant to a 10(b)5-1 plan\".\n",
    "# Why I did this? My understanding is that the footnote from SEC contains all the illegal transactions.\n",
    "trades2['dummy'] = np.where(trades2[\"dummy\"] == 1, 0, 1)\n",
    "trades2.head()"
   ]
  },
  {
   "cell_type": "code",
   "execution_count": 43,
   "metadata": {},
   "outputs": [
    {
     "data": {
      "text/plain": [
       "0.09424270180405489"
      ]
     },
     "execution_count": 43,
     "metadata": {},
     "output_type": "execute_result"
    }
   ],
   "source": [
    "trades2['dummy'].mean()"
   ]
  },
  {
   "cell_type": "code",
   "execution_count": 44,
   "metadata": {},
   "outputs": [],
   "source": [
    "trades2['trans_date'] = pd.to_datetime(trades2['trans_date'], errors = 'coerce')\n",
    "trades2 = trades2[(trades2['trans_date'] >= '2023-01-01') & (trades2['trans_date'] <= '2023-04-30')]"
   ]
  },
  {
   "cell_type": "code",
   "execution_count": 45,
   "metadata": {},
   "outputs": [
    {
     "name": "stdout",
     "output_type": "stream",
     "text": [
      "Number of transactions that were pursuant to 10(b)5-1:  9234\n"
     ]
    }
   ],
   "source": [
    "print(\"Number of transactions that were pursuant to 10(b)5-1: \", sum(trades2.dummy == 1)) "
   ]
  }
 ],
 "metadata": {
  "kernelspec": {
   "display_name": "Pandas",
   "language": "python",
   "name": "python3"
  },
  "language_info": {
   "codemirror_mode": {
    "name": "ipython",
    "version": 3
   },
   "file_extension": ".py",
   "mimetype": "text/x-python",
   "name": "python",
   "nbconvert_exporter": "python",
   "pygments_lexer": "ipython3",
   "version": "3.11.7"
  }
 },
 "nbformat": 4,
 "nbformat_minor": 2
}
